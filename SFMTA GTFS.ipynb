{
 "cells": [
  {
   "cell_type": "markdown",
   "metadata": {},
   "source": [
    "# Exploring the SFMTA Static GTFS"
   ]
  },
  {
   "cell_type": "code",
   "execution_count": 1,
   "metadata": {},
   "outputs": [
    {
     "name": "stdout",
     "output_type": "stream",
     "text": [
      "\r",
      "\r\n",
      "SFMTA TRANSIT DATA FEED LICENSE AGREEMENT\r",
      "\r\n",
      "\r",
      "\r\n",
      "The San Francisco Municipal Transportation Agency (\"SFMTA\" or \"Muni\"), a department of the City and County of San Francisco (the \"City\"), hereby grants to the Licensee a non-exclusive, limited and revocable right to use, reproduce, and redistribute SFMTA Transit Data (\"the Data\"), subject to the following Terms:\r",
      "\r\n",
      "\r",
      "\r\n",
      "1. SFMTA hereby grants Licensee a nonexclusive, limited, and revocable license to use, reproduce, and distribute Data subject to the terms and conditions stated in this License Agreement.  The license granted in this License Agreement shall be effective from the date of delivery of the Data. During the term of this License Agreement, SFMTA shall retain all right, title and interest in the Data. \r",
      "\r\n",
      " \r",
      "\r\n",
      "2. The term \"Data\" includes data that will be provided to you by the SFMTA by permitting you access to an URL address that provides live, on-going transit schedule and stop data by means of a XML feed or similar technology.\r",
      "\r\n",
      "\r",
      "\r\n",
      "3. The SFMTA provides the Data to Licensee on an \"as is\" and \"as available\" basis.  The SFMTA makes no representations or warranties of any kind, express or implied, as to the accuracy of the Data.  SFMTA does not warrant that Data will be error-free and assumes no responsibility for anyone's use of the information.  The SFMTA disclaims all warranties in the Data and any application that uses the Data, whether express or implied, including but not limited to implied warranties of merchantability and fitness for a particular purpose.  A Licensee and any third party that accesses or uses the Data or uses any application produced or provided by the Licensee that uses the Data does so at its own risk and assumes all liability arising from the use of the Data or an application that uses the Data.  \r",
      "\r\n",
      "\r",
      "\r\n",
      "4. The Licensee agrees that the SFMTA and its employees, officers, directors and agents shall not be liable for damages of any kind arising from the use of Data or any application that uses the Data including but not limited to direct, indirect, incidental, punitive and consequential, and or special damages.  The Licensee shall display or include this disclaimer in any use agreement for any application of the Data created or provided by Licensee.\r",
      "\r\n",
      "\r",
      "\r\n",
      "5. The Licensee shall defend, indemnify, and hold harmless the City, together with any and all of the City's agents and employees, from and against any and all claims, losses, liabilities, damages and expenses (including reasonable attorneys' fees) of any kind whatsoever for any action or claim brought against the City arising from or concerning Licensee's use of the Data or any person's use of the Data in an application created or provided by Licensee.  \r",
      "\r\n",
      "\r",
      "\r\n",
      "6. All content on the SFMTA and City websites (http://www.sfmta.com and http://www.sfgov.org) including the collection, arrangement, assembly and presentation of pages and all logos, maps, text, images, feeds and databases are the property of the City or its content suppliers and are protected by copyright laws. This License Agreement shall not be deemed to grant Licensee any title or right to Licensor's patents, copyrights, trade secrets, or other intellectual properties.  \r",
      "\r\n",
      "\r",
      "\r\n",
      "7. The Licensee shall not display or otherwise use in association with the Data any SFMTA, Muni or other trademarks, logos, symbols, maps, and other copyrighted materials of the City and County of San Francisco, including but not limited to the seal of the City and County of San Francisco, and SFMTA and Muni agency logos and any confusingly similar variants without express written permission in advance from the SFMTA.\r",
      "\r\n",
      "\r",
      "\r\n",
      "8. The SFMTA reserves the right to alter and/or cease to provide the Data at any time without prior notice.\r",
      "\r\n",
      "\r",
      "\r\n",
      "9. This License is for limited use of the Data as set forth herein.  The SFMTA retains full title and ownership and all rights and interest in the Data, and nothing in this License Agreement alienates any of those rights or interests.  \r",
      "\r\n",
      "\r",
      "\r\n",
      "10. Licensee agrees that only Licensor shall have the right to alter, maintain, enhance, terminate, or otherwise modify the Data.\t\r",
      "\r\n",
      "\t\t\t\t\t\r",
      "\r\n",
      "11. The License granted hereunder does not include any right to sublicense.  The license granted hereunder is subject to the SFMTA's ability to restrict the future use of the Data.  SFMTA reserves the right to alter or terminate use of the Data at any time without notice.\r",
      "\r\n",
      "\r",
      "\r\n",
      "12. All Data derivative versions prepared by the Licensee shall bear the following notice:\r",
      "\r\n",
      "\r",
      "\r\n",
      "Reproduced with permission granted by the City and County of San Francisco.  The information has been provided by means of a nonexclusive, limited, and revocable license granted by the City and County of San Francisco.\r",
      "\r\n",
      "\r",
      "\r\n",
      "The City and County of San Francisco does not guarantee the accuracy, adequacy, completeness or usefulness of any information.  The City and County of San Francisco provides this information \"as is,\" without warranty of any kind, express or implied, including but not limited to warranties of merchantability or fitness for a particular purpose, and assumes no responsibility for anyone's use of the information.\r",
      "\r\n",
      "\r",
      "\r\n",
      "13. Licensor shall have no liability or obligation with respect to any derivative product or other modifications of the Data by Licensee.  If any claim is asserted by a third party that, as a result of such derivative products or modifications by Licensee, the Data as so modified infringes an intellectual property right of the third party, Licensee shall defend and indemnify Licensor with respect to all costs or damages resulting from such claim, including attorney's fees, and any judgment that may be awarded against Licensor to the extent based on such derivative product or modification.\r",
      "\r\n",
      "\r",
      "\r\n",
      "14. The laws of the State of California shall govern all rights and obligations under this License Agreement, without giving effect to any principles of conflicts of laws.  Venue for any legal action concerning or arising from this License Agreement shall be in San Francisco, California.\r",
      "\r\n",
      "\r",
      "\r\n",
      "15. By accessing or using the Data, Licensee indicates that it has read, understands and agrees to the terms and conditions of this License Agreement.\t\r",
      "\r\n",
      "\t\t\t\t\r",
      "\r\n",
      "16. All notices or other communications under this Agreement shall be delivered by first class mail to:\r",
      "\r\n",
      "\r",
      "\r\n",
      "\tLicensor:\r",
      "\r\n",
      "\r",
      "\r\n",
      "\tDeputy Director of Information Technology\r",
      "\r\n",
      "\tSan Francisco Municipal Transportation Agency\r",
      "\r\n",
      "\tCity and County of San Francisco\r",
      "\r\n",
      "\tOne South Van Ness Avenue, 7th Floor\r",
      "\r\n",
      "\tSan Francisco, CA 94103\r",
      "\r\n",
      "\t(415) 701-4419\r",
      "\r\n",
      "\r",
      "\r\n",
      "17. This License Agreement constitutes the complete and exclusive agreement between the SFMTA and Licensee with respect to the subject matter hereof and supersedes all prior oral or written understandings, communications, or agreements not specifically incorporated herein.  The SFMTA reserves the right to modify or revoke this agreement at any time without prior notice.\t\t\t\t\t\t\t\t\t\r",
      "\r\n",
      "18. If any provision of this License Agreement is held to be invalid by a court of competent jurisdiction, then the remaining provisions will nevertheless remain in full force and effect.\t\t\t\t\t\t\t\t\t\t\t\t\t\r",
      "\r\n",
      "19. The failure of either party to enforce at any time any of the provisions of the License Agreement, or the failure to require at any time performance by the other party of any of the provisions of this License Agreement, will in no way be construed to be a present or future waiver of such provisions, nor in any way effect the validity of either party to enforce each and every such provision thereafter.\r",
      "\r\n",
      "\r",
      "\r\n",
      "\r",
      "\r\n",
      "\t\t\r",
      "\r\n",
      "\r",
      "\r\n"
     ]
    }
   ],
   "source": [
    "!cat SFMTA_Transit_Data_License_Agreement.txt"
   ]
  },
  {
   "cell_type": "markdown",
   "metadata": {},
   "source": [
    "## Loading in all the files"
   ]
  },
  {
   "cell_type": "code",
   "execution_count": 40,
   "metadata": {
    "collapsed": true
   },
   "outputs": [],
   "source": [
    "import numpy as np\n",
    "import pandas as pd"
   ]
  },
  {
   "cell_type": "code",
   "execution_count": 2,
   "metadata": {
    "collapsed": true
   },
   "outputs": [],
   "source": [
    "agency = pd.read_csv('agency.txt', sep=\",\", header=0)\n",
    "calendar = pd.read_csv('calendar.txt', sep=\",\", header=0)\n",
    "calendar_dates = pd.read_csv('calendar_dates.txt', sep=\",\", header=0)\n",
    "fare_attributes = pd.read_csv('fare_attributes.txt', sep=\",\", header=0)\n",
    "fare_rules = pd.read_csv('fare_rules.txt', sep=\",\", header=0)\n",
    "routes = pd.read_csv('routes.txt', sep=\",\", header=0)\n",
    "shapes = pd.read_csv('shapes.txt', sep=\",\", header=0)\n",
    "stop_times = pd.read_csv('stop_times.txt', sep=\",\", header=0)\n",
    "stops = pd.read_csv('stops.txt', sep=\",\", header=0)\n",
    "trips = pd.read_csv('trips.txt', sep=\",\", header=0)"
   ]
  },
  {
   "cell_type": "markdown",
   "metadata": {},
   "source": [
    "## Exploratory Data Analysis\n",
    "Performing an exploration of each file, in alphabetical order, with the help of the GTFS reference"
   ]
  },
  {
   "cell_type": "markdown",
   "metadata": {},
   "source": [
    "### agency [required]\n",
    "Used to refer to agency information if more than one GTFS source is merged together."
   ]
  },
  {
   "cell_type": "code",
   "execution_count": 3,
   "metadata": {},
   "outputs": [
    {
     "data": {
      "text/html": [
       "<div>\n",
       "<style>\n",
       "    .dataframe thead tr:only-child th {\n",
       "        text-align: right;\n",
       "    }\n",
       "\n",
       "    .dataframe thead th {\n",
       "        text-align: left;\n",
       "    }\n",
       "\n",
       "    .dataframe tbody tr th {\n",
       "        vertical-align: top;\n",
       "    }\n",
       "</style>\n",
       "<table border=\"1\" class=\"dataframe\">\n",
       "  <thead>\n",
       "    <tr style=\"text-align: right;\">\n",
       "      <th></th>\n",
       "      <th>agency_id</th>\n",
       "      <th>agency_name</th>\n",
       "      <th>agency_url</th>\n",
       "      <th>agency_timezone</th>\n",
       "      <th>agency_lang</th>\n",
       "    </tr>\n",
       "  </thead>\n",
       "  <tbody>\n",
       "    <tr>\n",
       "      <th>0</th>\n",
       "      <td>SFMTA</td>\n",
       "      <td>San Francisco Municipal Transportation Agency</td>\n",
       "      <td>http://www.sfmta.com</td>\n",
       "      <td>America/Los_Angeles</td>\n",
       "      <td>en</td>\n",
       "    </tr>\n",
       "  </tbody>\n",
       "</table>\n",
       "</div>"
      ],
      "text/plain": [
       "  agency_id                                    agency_name  \\\n",
       "0     SFMTA  San Francisco Municipal Transportation Agency   \n",
       "\n",
       "             agency_url      agency_timezone agency_lang  \n",
       "0  http://www.sfmta.com  America/Los_Angeles          en  "
      ]
     },
     "execution_count": 3,
     "metadata": {},
     "output_type": "execute_result"
    }
   ],
   "source": [
    "agency"
   ]
  },
  {
   "cell_type": "markdown",
   "metadata": {},
   "source": [
    "### calendar [conditionally required]\n",
    "SFMTA does provide a calendar.txt which is only conditionally required.\n",
    "* the dates for which this data applies is 9th February 2019 ~ 8th March 2019\n",
    "* it appears that the provision of service on weekdays is a binary value - service is either provided on all weekdays or not provided on any weekday\n",
    "* service_id is defined as a primary key under GTFS guidelines, it is also a foreign key for trips and calendar_dates"
   ]
  },
  {
   "cell_type": "code",
   "execution_count": 4,
   "metadata": {},
   "outputs": [
    {
     "data": {
      "text/html": [
       "<div>\n",
       "<style>\n",
       "    .dataframe thead tr:only-child th {\n",
       "        text-align: right;\n",
       "    }\n",
       "\n",
       "    .dataframe thead th {\n",
       "        text-align: left;\n",
       "    }\n",
       "\n",
       "    .dataframe tbody tr th {\n",
       "        vertical-align: top;\n",
       "    }\n",
       "</style>\n",
       "<table border=\"1\" class=\"dataframe\">\n",
       "  <thead>\n",
       "    <tr style=\"text-align: right;\">\n",
       "      <th></th>\n",
       "      <th>service_id</th>\n",
       "      <th>monday</th>\n",
       "      <th>tuesday</th>\n",
       "      <th>wednesday</th>\n",
       "      <th>thursday</th>\n",
       "      <th>friday</th>\n",
       "      <th>saturday</th>\n",
       "      <th>sunday</th>\n",
       "      <th>start_date</th>\n",
       "      <th>end_date</th>\n",
       "    </tr>\n",
       "  </thead>\n",
       "  <tbody>\n",
       "    <tr>\n",
       "      <th>0</th>\n",
       "      <td>1</td>\n",
       "      <td>1</td>\n",
       "      <td>1</td>\n",
       "      <td>1</td>\n",
       "      <td>1</td>\n",
       "      <td>1</td>\n",
       "      <td>0</td>\n",
       "      <td>0</td>\n",
       "      <td>20190209</td>\n",
       "      <td>20190308</td>\n",
       "    </tr>\n",
       "    <tr>\n",
       "      <th>1</th>\n",
       "      <td>2</td>\n",
       "      <td>0</td>\n",
       "      <td>0</td>\n",
       "      <td>0</td>\n",
       "      <td>0</td>\n",
       "      <td>0</td>\n",
       "      <td>1</td>\n",
       "      <td>0</td>\n",
       "      <td>20190209</td>\n",
       "      <td>20190308</td>\n",
       "    </tr>\n",
       "    <tr>\n",
       "      <th>2</th>\n",
       "      <td>3</td>\n",
       "      <td>0</td>\n",
       "      <td>0</td>\n",
       "      <td>0</td>\n",
       "      <td>0</td>\n",
       "      <td>0</td>\n",
       "      <td>0</td>\n",
       "      <td>1</td>\n",
       "      <td>20190209</td>\n",
       "      <td>20190308</td>\n",
       "    </tr>\n",
       "  </tbody>\n",
       "</table>\n",
       "</div>"
      ],
      "text/plain": [
       "   service_id  monday  tuesday  wednesday  thursday  friday  saturday  sunday  \\\n",
       "0           1       1        1          1         1       1         0       0   \n",
       "1           2       0        0          0         0       0         1       0   \n",
       "2           3       0        0          0         0       0         0       1   \n",
       "\n",
       "   start_date  end_date  \n",
       "0    20190209  20190308  \n",
       "1    20190209  20190308  \n",
       "2    20190209  20190308  "
      ]
     },
     "execution_count": 4,
     "metadata": {},
     "output_type": "execute_result"
    }
   ],
   "source": [
    "calendar"
   ]
  },
  {
   "cell_type": "markdown",
   "metadata": {},
   "source": [
    "### calendar_dates [conditionally required]\n",
    "service_id here is a foreign key for calendar [conditionally required].\n",
    "\n",
    "calendar_dates is specifying here that:\n",
    "* on 21st January 2019, the saturday service has been removed\n",
    "* on 21st January 2019, the sunday service has been added\n",
    "* on 18th February 2019, the saturday service has been removed\n",
    "* on 18th February 2019, the sunday service has been added\n",
    "\n",
    "\n",
    "**My confusion:**\n",
    "* **date is supposed to be the \"Date when service exception occurs.\" but the 21st January 2019 which is Martin Luther King Jr. Day falls on a Monday**\n",
    "* **date is supposed to be the \"Date when service exception occurs.\" but the 18th February 2019 which is President's Day falls on a Monday**"
   ]
  },
  {
   "cell_type": "code",
   "execution_count": 5,
   "metadata": {},
   "outputs": [
    {
     "data": {
      "text/html": [
       "<div>\n",
       "<style>\n",
       "    .dataframe thead tr:only-child th {\n",
       "        text-align: right;\n",
       "    }\n",
       "\n",
       "    .dataframe thead th {\n",
       "        text-align: left;\n",
       "    }\n",
       "\n",
       "    .dataframe tbody tr th {\n",
       "        vertical-align: top;\n",
       "    }\n",
       "</style>\n",
       "<table border=\"1\" class=\"dataframe\">\n",
       "  <thead>\n",
       "    <tr style=\"text-align: right;\">\n",
       "      <th></th>\n",
       "      <th>service_id</th>\n",
       "      <th>date</th>\n",
       "      <th>exception_type</th>\n",
       "    </tr>\n",
       "  </thead>\n",
       "  <tbody>\n",
       "    <tr>\n",
       "      <th>0</th>\n",
       "      <td>1</td>\n",
       "      <td>20190121</td>\n",
       "      <td>2</td>\n",
       "    </tr>\n",
       "    <tr>\n",
       "      <th>1</th>\n",
       "      <td>2</td>\n",
       "      <td>20190121</td>\n",
       "      <td>1</td>\n",
       "    </tr>\n",
       "    <tr>\n",
       "      <th>2</th>\n",
       "      <td>1</td>\n",
       "      <td>20190218</td>\n",
       "      <td>2</td>\n",
       "    </tr>\n",
       "    <tr>\n",
       "      <th>3</th>\n",
       "      <td>2</td>\n",
       "      <td>20190218</td>\n",
       "      <td>1</td>\n",
       "    </tr>\n",
       "  </tbody>\n",
       "</table>\n",
       "</div>"
      ],
      "text/plain": [
       "   service_id      date  exception_type\n",
       "0           1  20190121               2\n",
       "1           2  20190121               1\n",
       "2           1  20190218               2\n",
       "3           2  20190218               1"
      ]
     },
     "execution_count": 5,
     "metadata": {},
     "output_type": "execute_result"
    }
   ],
   "source": [
    "calendar_dates"
   ]
  },
  {
   "cell_type": "markdown",
   "metadata": {},
   "source": [
    "### fare_attributes [optional]\n",
    "fare_id is a primary key here and a foreign key for fare_rules [optional]\n",
    "\n",
    "payment_method:\n",
    "* 0 - Fare is paid on board\n",
    "* 1 - Fare must be paid before boarding\n",
    "\n",
    "transfers:\n",
    "* 0 - No transfers permitted on this fare.\n",
    "* 1 - Riders may transfer once.\n",
    "* 2 - Riders may transfer twice.\n",
    "* empty - Unlimited transfers are permitted.\n",
    "\n",
    "transfer_duration is the \"length of time in seconds before a transfer expires\":\n",
    "* 5400 seconds = 90 minutes"
   ]
  },
  {
   "cell_type": "code",
   "execution_count": 6,
   "metadata": {},
   "outputs": [
    {
     "data": {
      "text/html": [
       "<div>\n",
       "<style>\n",
       "    .dataframe thead tr:only-child th {\n",
       "        text-align: right;\n",
       "    }\n",
       "\n",
       "    .dataframe thead th {\n",
       "        text-align: left;\n",
       "    }\n",
       "\n",
       "    .dataframe tbody tr th {\n",
       "        vertical-align: top;\n",
       "    }\n",
       "</style>\n",
       "<table border=\"1\" class=\"dataframe\">\n",
       "  <thead>\n",
       "    <tr style=\"text-align: right;\">\n",
       "      <th></th>\n",
       "      <th>fare_id</th>\n",
       "      <th>price</th>\n",
       "      <th>currency_type</th>\n",
       "      <th>payment_method</th>\n",
       "      <th>transfers</th>\n",
       "      <th>transfer_duration</th>\n",
       "    </tr>\n",
       "  </thead>\n",
       "  <tbody>\n",
       "    <tr>\n",
       "      <th>0</th>\n",
       "      <td>1</td>\n",
       "      <td>2.75</td>\n",
       "      <td>USD</td>\n",
       "      <td>0</td>\n",
       "      <td>NaN</td>\n",
       "      <td>5400.0</td>\n",
       "    </tr>\n",
       "    <tr>\n",
       "      <th>1</th>\n",
       "      <td>2</td>\n",
       "      <td>7.00</td>\n",
       "      <td>USD</td>\n",
       "      <td>0</td>\n",
       "      <td>0.0</td>\n",
       "      <td>NaN</td>\n",
       "    </tr>\n",
       "  </tbody>\n",
       "</table>\n",
       "</div>"
      ],
      "text/plain": [
       "   fare_id  price currency_type  payment_method  transfers  transfer_duration\n",
       "0        1   2.75           USD               0        NaN             5400.0\n",
       "1        2   7.00           USD               0        0.0                NaN"
      ]
     },
     "execution_count": 6,
     "metadata": {},
     "output_type": "execute_result"
    }
   ],
   "source": [
    "fare_attributes"
   ]
  },
  {
   "cell_type": "markdown",
   "metadata": {
    "collapsed": true
   },
   "source": [
    "### fare_rules [optional]\n",
    "fare_id is a foreign key for fare_attributes [optional].\n",
    "\n",
    "route_id is a foreign key for routes [required].\n",
    "\n",
    "fare_id and route_id are the only columns that feature non-null values.\n",
    "\n",
    "origin_id, destination_id, and contains_id appear to be null objects but are categorised as floats.\n",
    "\n",
    "They have been turned into null objects."
   ]
  },
  {
   "cell_type": "code",
   "execution_count": 7,
   "metadata": {},
   "outputs": [
    {
     "data": {
      "text/html": [
       "<div>\n",
       "<style>\n",
       "    .dataframe thead tr:only-child th {\n",
       "        text-align: right;\n",
       "    }\n",
       "\n",
       "    .dataframe thead th {\n",
       "        text-align: left;\n",
       "    }\n",
       "\n",
       "    .dataframe tbody tr th {\n",
       "        vertical-align: top;\n",
       "    }\n",
       "</style>\n",
       "<table border=\"1\" class=\"dataframe\">\n",
       "  <thead>\n",
       "    <tr style=\"text-align: right;\">\n",
       "      <th></th>\n",
       "      <th>fare_id</th>\n",
       "      <th>route_id</th>\n",
       "      <th>origin_id</th>\n",
       "      <th>destination_id</th>\n",
       "      <th>contains_id</th>\n",
       "    </tr>\n",
       "  </thead>\n",
       "  <tbody>\n",
       "    <tr>\n",
       "      <th>0</th>\n",
       "      <td>1</td>\n",
       "      <td>13392</td>\n",
       "      <td>NaN</td>\n",
       "      <td>NaN</td>\n",
       "      <td>NaN</td>\n",
       "    </tr>\n",
       "    <tr>\n",
       "      <th>1</th>\n",
       "      <td>1</td>\n",
       "      <td>13711</td>\n",
       "      <td>NaN</td>\n",
       "      <td>NaN</td>\n",
       "      <td>NaN</td>\n",
       "    </tr>\n",
       "    <tr>\n",
       "      <th>2</th>\n",
       "      <td>1</td>\n",
       "      <td>13712</td>\n",
       "      <td>NaN</td>\n",
       "      <td>NaN</td>\n",
       "      <td>NaN</td>\n",
       "    </tr>\n",
       "    <tr>\n",
       "      <th>3</th>\n",
       "      <td>1</td>\n",
       "      <td>13406</td>\n",
       "      <td>NaN</td>\n",
       "      <td>NaN</td>\n",
       "      <td>NaN</td>\n",
       "    </tr>\n",
       "    <tr>\n",
       "      <th>4</th>\n",
       "      <td>1</td>\n",
       "      <td>13407</td>\n",
       "      <td>NaN</td>\n",
       "      <td>NaN</td>\n",
       "      <td>NaN</td>\n",
       "    </tr>\n",
       "  </tbody>\n",
       "</table>\n",
       "</div>"
      ],
      "text/plain": [
       "   fare_id  route_id  origin_id  destination_id  contains_id\n",
       "0        1     13392        NaN             NaN          NaN\n",
       "1        1     13711        NaN             NaN          NaN\n",
       "2        1     13712        NaN             NaN          NaN\n",
       "3        1     13406        NaN             NaN          NaN\n",
       "4        1     13407        NaN             NaN          NaN"
      ]
     },
     "execution_count": 7,
     "metadata": {},
     "output_type": "execute_result"
    }
   ],
   "source": [
    "fare_rules.head()"
   ]
  },
  {
   "cell_type": "code",
   "execution_count": 56,
   "metadata": {},
   "outputs": [
    {
     "name": "stdout",
     "output_type": "stream",
     "text": [
      "[ nan]\n",
      "[ nan]\n",
      "[ nan]\n",
      "<class 'numpy.float64'>\n"
     ]
    }
   ],
   "source": [
    "print(fare_rules[\"origin_id\"].unique())\n",
    "print(fare_rules[\"destination_id\"].unique())\n",
    "print(fare_rules[\"contains_id\"].unique())"
   ]
  },
  {
   "cell_type": "code",
   "execution_count": 57,
   "metadata": {},
   "outputs": [
    {
     "name": "stdout",
     "output_type": "stream",
     "text": [
      "<class 'numpy.float64'>\n"
     ]
    }
   ],
   "source": [
    "print(type(fare_rules[\"contains_id\"][0]))"
   ]
  },
  {
   "cell_type": "code",
   "execution_count": 58,
   "metadata": {},
   "outputs": [
    {
     "name": "stdout",
     "output_type": "stream",
     "text": [
      "<class 'pandas.core.frame.DataFrame'>\n",
      "RangeIndex: 83 entries, 0 to 82\n",
      "Data columns (total 5 columns):\n",
      "fare_id           83 non-null int64\n",
      "route_id          83 non-null int64\n",
      "origin_id         0 non-null float64\n",
      "destination_id    0 non-null float64\n",
      "contains_id       0 non-null float64\n",
      "dtypes: float64(3), int64(2)\n",
      "memory usage: 3.3 KB\n"
     ]
    }
   ],
   "source": [
    "fare_rules.info()"
   ]
  },
  {
   "cell_type": "code",
   "execution_count": 59,
   "metadata": {
    "collapsed": true
   },
   "outputs": [],
   "source": [
    "fare_rules[\"origin_id\"] = np.nan\n",
    "fare_rules[\"destination_id\"] = np.nan\n",
    "fare_rules[\"contains_id\"] = np.nan"
   ]
  },
  {
   "cell_type": "code",
   "execution_count": 60,
   "metadata": {},
   "outputs": [
    {
     "name": "stdout",
     "output_type": "stream",
     "text": [
      "<class 'pandas.core.frame.DataFrame'>\n",
      "RangeIndex: 83 entries, 0 to 82\n",
      "Data columns (total 5 columns):\n",
      "fare_id           83 non-null int64\n",
      "route_id          83 non-null int64\n",
      "origin_id         0 non-null float64\n",
      "destination_id    0 non-null float64\n",
      "contains_id       0 non-null float64\n",
      "dtypes: float64(3), int64(2)\n",
      "memory usage: 3.3 KB\n"
     ]
    }
   ],
   "source": [
    "fare_rules.info()"
   ]
  },
  {
   "cell_type": "markdown",
   "metadata": {},
   "source": [
    "### routes [required]\n",
    "\n",
    "agency_id is a foreign key for agency.\n",
    "\n",
    "route_short_name is often what \"riders use to identify a route.\"\n",
    "\n",
    "There are no route_descriptions or route_url.\n",
    "\n",
    "route_color and route_text_color were left empty so they default to white and black respectively.\n",
    "\n",
    "There are 3 out of 7 potential transportation types in route_type:\n",
    "* 0 - Tram, Streetcar, Light rail. Any light rail or street level system within a metropolitan area.\n",
    "* 3 - Bus. Used for short- and long-distance bus routes.\n",
    "* 5 - Cable car. Used for street-level cable cars where the cable runs beneath the car."
   ]
  },
  {
   "cell_type": "code",
   "execution_count": 11,
   "metadata": {},
   "outputs": [
    {
     "data": {
      "text/html": [
       "<div>\n",
       "<style>\n",
       "    .dataframe thead tr:only-child th {\n",
       "        text-align: right;\n",
       "    }\n",
       "\n",
       "    .dataframe thead th {\n",
       "        text-align: left;\n",
       "    }\n",
       "\n",
       "    .dataframe tbody tr th {\n",
       "        vertical-align: top;\n",
       "    }\n",
       "</style>\n",
       "<table border=\"1\" class=\"dataframe\">\n",
       "  <thead>\n",
       "    <tr style=\"text-align: right;\">\n",
       "      <th></th>\n",
       "      <th>route_id</th>\n",
       "      <th>agency_id</th>\n",
       "      <th>route_short_name</th>\n",
       "      <th>route_long_name</th>\n",
       "      <th>route_desc</th>\n",
       "      <th>route_type</th>\n",
       "      <th>route_url</th>\n",
       "      <th>route_color</th>\n",
       "      <th>route_text_color</th>\n",
       "    </tr>\n",
       "  </thead>\n",
       "  <tbody>\n",
       "    <tr>\n",
       "      <th>0</th>\n",
       "      <td>13392</td>\n",
       "      <td>SFMTA</td>\n",
       "      <td>1</td>\n",
       "      <td>CALIFORNIA</td>\n",
       "      <td>NaN</td>\n",
       "      <td>3</td>\n",
       "      <td></td>\n",
       "      <td></td>\n",
       "      <td></td>\n",
       "    </tr>\n",
       "    <tr>\n",
       "      <th>1</th>\n",
       "      <td>13711</td>\n",
       "      <td>SFMTA</td>\n",
       "      <td>10</td>\n",
       "      <td>TOWNSEND</td>\n",
       "      <td>NaN</td>\n",
       "      <td>3</td>\n",
       "      <td></td>\n",
       "      <td></td>\n",
       "      <td></td>\n",
       "    </tr>\n",
       "    <tr>\n",
       "      <th>2</th>\n",
       "      <td>13712</td>\n",
       "      <td>SFMTA</td>\n",
       "      <td>12</td>\n",
       "      <td>FOLSOM-PACIFIC</td>\n",
       "      <td>NaN</td>\n",
       "      <td>3</td>\n",
       "      <td></td>\n",
       "      <td></td>\n",
       "      <td></td>\n",
       "    </tr>\n",
       "    <tr>\n",
       "      <th>3</th>\n",
       "      <td>13406</td>\n",
       "      <td>SFMTA</td>\n",
       "      <td>14</td>\n",
       "      <td>MISSION</td>\n",
       "      <td>NaN</td>\n",
       "      <td>3</td>\n",
       "      <td></td>\n",
       "      <td></td>\n",
       "      <td></td>\n",
       "    </tr>\n",
       "    <tr>\n",
       "      <th>4</th>\n",
       "      <td>13407</td>\n",
       "      <td>SFMTA</td>\n",
       "      <td>14R</td>\n",
       "      <td>MISSION RAPID</td>\n",
       "      <td>NaN</td>\n",
       "      <td>3</td>\n",
       "      <td></td>\n",
       "      <td></td>\n",
       "      <td></td>\n",
       "    </tr>\n",
       "  </tbody>\n",
       "</table>\n",
       "</div>"
      ],
      "text/plain": [
       "   route_id agency_id route_short_name route_long_name  route_desc  \\\n",
       "0     13392     SFMTA                1      CALIFORNIA         NaN   \n",
       "1     13711     SFMTA               10        TOWNSEND         NaN   \n",
       "2     13712     SFMTA               12  FOLSOM-PACIFIC         NaN   \n",
       "3     13406     SFMTA               14         MISSION         NaN   \n",
       "4     13407     SFMTA              14R   MISSION RAPID         NaN   \n",
       "\n",
       "   route_type route_url route_color route_text_color  \n",
       "0           3                                         \n",
       "1           3                                         \n",
       "2           3                                         \n",
       "3           3                                         \n",
       "4           3                                         "
      ]
     },
     "execution_count": 11,
     "metadata": {},
     "output_type": "execute_result"
    }
   ],
   "source": [
    "routes.head()"
   ]
  },
  {
   "cell_type": "code",
   "execution_count": 12,
   "metadata": {},
   "outputs": [
    {
     "name": "stdout",
     "output_type": "stream",
     "text": [
      "<class 'pandas.core.frame.DataFrame'>\n",
      "RangeIndex: 83 entries, 0 to 82\n",
      "Data columns (total 9 columns):\n",
      "route_id            83 non-null int64\n",
      "agency_id           83 non-null object\n",
      "route_short_name    83 non-null object\n",
      "route_long_name     83 non-null object\n",
      "route_desc          0 non-null float64\n",
      "route_type          83 non-null int64\n",
      "route_url           83 non-null object\n",
      "route_color         83 non-null object\n",
      "route_text_color    81 non-null object\n",
      "dtypes: float64(1), int64(2), object(6)\n",
      "memory usage: 5.9+ KB\n"
     ]
    }
   ],
   "source": [
    "routes.info()"
   ]
  },
  {
   "cell_type": "code",
   "execution_count": 13,
   "metadata": {},
   "outputs": [
    {
     "data": {
      "text/plain": [
       "array([3, 5, 0])"
      ]
     },
     "execution_count": 13,
     "metadata": {},
     "output_type": "execute_result"
    }
   ],
   "source": [
    "routes[\"route_type\"].unique()"
   ]
  },
  {
   "cell_type": "code",
   "execution_count": 61,
   "metadata": {},
   "outputs": [
    {
     "name": "stdout",
     "output_type": "stream",
     "text": [
      "[' ']\n",
      "[' ']\n",
      "[' ' nan]\n"
     ]
    }
   ],
   "source": [
    "print(routes[\"route_url\"].unique())\n",
    "print(routes[\"route_color\"].unique())\n",
    "print(routes[\"route_text_color\"].unique())"
   ]
  },
  {
   "cell_type": "code",
   "execution_count": 62,
   "metadata": {
    "collapsed": true
   },
   "outputs": [],
   "source": [
    "routes[\"route_text_color\"] = \"000000\"\n",
    "routes[\"route_color\"] = \"FFFFFF\""
   ]
  },
  {
   "cell_type": "code",
   "execution_count": 63,
   "metadata": {},
   "outputs": [
    {
     "name": "stdout",
     "output_type": "stream",
     "text": [
      "['FFFFFF']\n",
      "['000000']\n"
     ]
    }
   ],
   "source": [
    "print(routes[\"route_color\"].unique())\n",
    "print(routes[\"route_text_color\"].unique())"
   ]
  },
  {
   "cell_type": "markdown",
   "metadata": {},
   "source": [
    "### shapes [optional]\n",
    "There are no null objects in shapes.\n",
    "\n",
    "The shape_id identifies the shape and the shape_pt_sequence does not have to increase chronologically.\n",
    "\n",
    "There are 1953 unique shape_id entries."
   ]
  },
  {
   "cell_type": "code",
   "execution_count": 17,
   "metadata": {},
   "outputs": [
    {
     "name": "stdout",
     "output_type": "stream",
     "text": [
      "<class 'pandas.core.frame.DataFrame'>\n",
      "RangeIndex: 233282 entries, 0 to 233281\n",
      "Data columns (total 5 columns):\n",
      "shape_id               233282 non-null int64\n",
      "shape_pt_lon           233282 non-null float64\n",
      "shape_pt_lat           233282 non-null float64\n",
      "shape_pt_sequence      233282 non-null int64\n",
      "shape_dist_traveled    233282 non-null int64\n",
      "dtypes: float64(2), int64(3)\n",
      "memory usage: 8.9 MB\n"
     ]
    }
   ],
   "source": [
    "shapes.info()"
   ]
  },
  {
   "cell_type": "code",
   "execution_count": 37,
   "metadata": {},
   "outputs": [
    {
     "data": {
      "text/html": [
       "<div>\n",
       "<style>\n",
       "    .dataframe thead tr:only-child th {\n",
       "        text-align: right;\n",
       "    }\n",
       "\n",
       "    .dataframe thead th {\n",
       "        text-align: left;\n",
       "    }\n",
       "\n",
       "    .dataframe tbody tr th {\n",
       "        vertical-align: top;\n",
       "    }\n",
       "</style>\n",
       "<table border=\"1\" class=\"dataframe\">\n",
       "  <thead>\n",
       "    <tr style=\"text-align: right;\">\n",
       "      <th></th>\n",
       "      <th>shape_id</th>\n",
       "      <th>shape_pt_lon</th>\n",
       "      <th>shape_pt_lat</th>\n",
       "      <th>shape_pt_sequence</th>\n",
       "      <th>shape_dist_traveled</th>\n",
       "    </tr>\n",
       "  </thead>\n",
       "  <tbody>\n",
       "    <tr>\n",
       "      <th>0</th>\n",
       "      <td>159273</td>\n",
       "      <td>-122.396968</td>\n",
       "      <td>37.795436</td>\n",
       "      <td>1</td>\n",
       "      <td>0</td>\n",
       "    </tr>\n",
       "    <tr>\n",
       "      <th>1</th>\n",
       "      <td>159273</td>\n",
       "      <td>-122.396784</td>\n",
       "      <td>37.795471</td>\n",
       "      <td>2</td>\n",
       "      <td>17</td>\n",
       "    </tr>\n",
       "    <tr>\n",
       "      <th>2</th>\n",
       "      <td>159273</td>\n",
       "      <td>-122.396598</td>\n",
       "      <td>37.794593</td>\n",
       "      <td>3</td>\n",
       "      <td>116</td>\n",
       "    </tr>\n",
       "    <tr>\n",
       "      <th>3</th>\n",
       "      <td>159273</td>\n",
       "      <td>-122.397809</td>\n",
       "      <td>37.794439</td>\n",
       "      <td>4</td>\n",
       "      <td>224</td>\n",
       "    </tr>\n",
       "    <tr>\n",
       "      <th>4</th>\n",
       "      <td>159273</td>\n",
       "      <td>-122.398983</td>\n",
       "      <td>37.794289</td>\n",
       "      <td>5</td>\n",
       "      <td>329</td>\n",
       "    </tr>\n",
       "  </tbody>\n",
       "</table>\n",
       "</div>"
      ],
      "text/plain": [
       "   shape_id  shape_pt_lon  shape_pt_lat  shape_pt_sequence  \\\n",
       "0    159273   -122.396968     37.795436                  1   \n",
       "1    159273   -122.396784     37.795471                  2   \n",
       "2    159273   -122.396598     37.794593                  3   \n",
       "3    159273   -122.397809     37.794439                  4   \n",
       "4    159273   -122.398983     37.794289                  5   \n",
       "\n",
       "   shape_dist_traveled  \n",
       "0                    0  \n",
       "1                   17  \n",
       "2                  116  \n",
       "3                  224  \n",
       "4                  329  "
      ]
     },
     "execution_count": 37,
     "metadata": {},
     "output_type": "execute_result"
    }
   ],
   "source": [
    "shapes.head()"
   ]
  },
  {
   "cell_type": "code",
   "execution_count": 33,
   "metadata": {},
   "outputs": [
    {
     "data": {
      "text/plain": [
       "1953"
      ]
     },
     "execution_count": 33,
     "metadata": {},
     "output_type": "execute_result"
    }
   ],
   "source": [
    "len(shapes[\"shape_id\"].unique())"
   ]
  },
  {
   "cell_type": "markdown",
   "metadata": {},
   "source": [
    "### stop_times [required]\n",
    "trip_id is a foreign key for trips [required].\n",
    "\n",
    "stop_headsign and shape_dist_traveled contain only null objects.\n",
    "\n",
    "for pickup_type and drop_off_type, \"0 or empty - Regularly scheduled drop off.\"\n",
    "\n",
    "instead of empty strings, they have been filled with 0."
   ]
  },
  {
   "cell_type": "code",
   "execution_count": 35,
   "metadata": {},
   "outputs": [
    {
     "name": "stdout",
     "output_type": "stream",
     "text": [
      "<class 'pandas.core.frame.DataFrame'>\n",
      "RangeIndex: 1109813 entries, 0 to 1109812\n",
      "Data columns (total 9 columns):\n",
      "trip_id                1109813 non-null int64\n",
      "arrival_time           1109813 non-null object\n",
      "departure_time         1109813 non-null object\n",
      "stop_id                1109813 non-null int64\n",
      "stop_sequence          1109813 non-null int64\n",
      "stop_headsign          1109813 non-null object\n",
      "pickup_type            1109813 non-null object\n",
      "drop_off_type          1109813 non-null object\n",
      "shape_dist_traveled    1109813 non-null object\n",
      "dtypes: int64(3), object(6)\n",
      "memory usage: 76.2+ MB\n"
     ]
    }
   ],
   "source": [
    "stop_times.info()"
   ]
  },
  {
   "cell_type": "code",
   "execution_count": 36,
   "metadata": {},
   "outputs": [
    {
     "data": {
      "text/html": [
       "<div>\n",
       "<style>\n",
       "    .dataframe thead tr:only-child th {\n",
       "        text-align: right;\n",
       "    }\n",
       "\n",
       "    .dataframe thead th {\n",
       "        text-align: left;\n",
       "    }\n",
       "\n",
       "    .dataframe tbody tr th {\n",
       "        vertical-align: top;\n",
       "    }\n",
       "</style>\n",
       "<table border=\"1\" class=\"dataframe\">\n",
       "  <thead>\n",
       "    <tr style=\"text-align: right;\">\n",
       "      <th></th>\n",
       "      <th>trip_id</th>\n",
       "      <th>arrival_time</th>\n",
       "      <th>departure_time</th>\n",
       "      <th>stop_id</th>\n",
       "      <th>stop_sequence</th>\n",
       "      <th>stop_headsign</th>\n",
       "      <th>pickup_type</th>\n",
       "      <th>drop_off_type</th>\n",
       "      <th>shape_dist_traveled</th>\n",
       "    </tr>\n",
       "  </thead>\n",
       "  <tbody>\n",
       "    <tr>\n",
       "      <th>0</th>\n",
       "      <td>8204629</td>\n",
       "      <td>17:28:00</td>\n",
       "      <td>17:28:00</td>\n",
       "      <td>4015</td>\n",
       "      <td>1</td>\n",
       "      <td></td>\n",
       "      <td></td>\n",
       "      <td></td>\n",
       "      <td></td>\n",
       "    </tr>\n",
       "    <tr>\n",
       "      <th>1</th>\n",
       "      <td>8204629</td>\n",
       "      <td>17:29:06</td>\n",
       "      <td>17:29:06</td>\n",
       "      <td>6294</td>\n",
       "      <td>2</td>\n",
       "      <td></td>\n",
       "      <td></td>\n",
       "      <td></td>\n",
       "      <td></td>\n",
       "    </tr>\n",
       "    <tr>\n",
       "      <th>2</th>\n",
       "      <td>8204629</td>\n",
       "      <td>17:30:22</td>\n",
       "      <td>17:30:22</td>\n",
       "      <td>6290</td>\n",
       "      <td>3</td>\n",
       "      <td></td>\n",
       "      <td></td>\n",
       "      <td></td>\n",
       "      <td></td>\n",
       "    </tr>\n",
       "    <tr>\n",
       "      <th>3</th>\n",
       "      <td>8204629</td>\n",
       "      <td>17:31:00</td>\n",
       "      <td>17:31:00</td>\n",
       "      <td>6314</td>\n",
       "      <td>4</td>\n",
       "      <td></td>\n",
       "      <td></td>\n",
       "      <td></td>\n",
       "      <td></td>\n",
       "    </tr>\n",
       "    <tr>\n",
       "      <th>4</th>\n",
       "      <td>8204629</td>\n",
       "      <td>17:32:23</td>\n",
       "      <td>17:32:23</td>\n",
       "      <td>6307</td>\n",
       "      <td>5</td>\n",
       "      <td></td>\n",
       "      <td></td>\n",
       "      <td></td>\n",
       "      <td></td>\n",
       "    </tr>\n",
       "    <tr>\n",
       "      <th>5</th>\n",
       "      <td>8204629</td>\n",
       "      <td>17:34:02</td>\n",
       "      <td>17:34:02</td>\n",
       "      <td>6302</td>\n",
       "      <td>6</td>\n",
       "      <td></td>\n",
       "      <td></td>\n",
       "      <td></td>\n",
       "      <td></td>\n",
       "    </tr>\n",
       "    <tr>\n",
       "      <th>6</th>\n",
       "      <td>8204629</td>\n",
       "      <td>17:35:22</td>\n",
       "      <td>17:35:22</td>\n",
       "      <td>6299</td>\n",
       "      <td>7</td>\n",
       "      <td></td>\n",
       "      <td></td>\n",
       "      <td></td>\n",
       "      <td></td>\n",
       "    </tr>\n",
       "    <tr>\n",
       "      <th>7</th>\n",
       "      <td>8204629</td>\n",
       "      <td>17:36:33</td>\n",
       "      <td>17:36:33</td>\n",
       "      <td>6316</td>\n",
       "      <td>8</td>\n",
       "      <td></td>\n",
       "      <td></td>\n",
       "      <td></td>\n",
       "      <td></td>\n",
       "    </tr>\n",
       "    <tr>\n",
       "      <th>8</th>\n",
       "      <td>8204629</td>\n",
       "      <td>17:38:00</td>\n",
       "      <td>17:38:00</td>\n",
       "      <td>6312</td>\n",
       "      <td>9</td>\n",
       "      <td></td>\n",
       "      <td></td>\n",
       "      <td></td>\n",
       "      <td></td>\n",
       "    </tr>\n",
       "    <tr>\n",
       "      <th>9</th>\n",
       "      <td>8204629</td>\n",
       "      <td>17:39:22</td>\n",
       "      <td>17:39:22</td>\n",
       "      <td>6315</td>\n",
       "      <td>10</td>\n",
       "      <td></td>\n",
       "      <td></td>\n",
       "      <td></td>\n",
       "      <td></td>\n",
       "    </tr>\n",
       "  </tbody>\n",
       "</table>\n",
       "</div>"
      ],
      "text/plain": [
       "   trip_id arrival_time departure_time  stop_id  stop_sequence stop_headsign  \\\n",
       "0  8204629     17:28:00       17:28:00     4015              1                 \n",
       "1  8204629     17:29:06       17:29:06     6294              2                 \n",
       "2  8204629     17:30:22       17:30:22     6290              3                 \n",
       "3  8204629     17:31:00       17:31:00     6314              4                 \n",
       "4  8204629     17:32:23       17:32:23     6307              5                 \n",
       "5  8204629     17:34:02       17:34:02     6302              6                 \n",
       "6  8204629     17:35:22       17:35:22     6299              7                 \n",
       "7  8204629     17:36:33       17:36:33     6316              8                 \n",
       "8  8204629     17:38:00       17:38:00     6312              9                 \n",
       "9  8204629     17:39:22       17:39:22     6315             10                 \n",
       "\n",
       "  pickup_type drop_off_type shape_dist_traveled  \n",
       "0                                                \n",
       "1                                                \n",
       "2                                                \n",
       "3                                                \n",
       "4                                                \n",
       "5                                                \n",
       "6                                                \n",
       "7                                                \n",
       "8                                                \n",
       "9                                                "
      ]
     },
     "execution_count": 36,
     "metadata": {},
     "output_type": "execute_result"
    }
   ],
   "source": [
    "stop_times.head(10)"
   ]
  },
  {
   "cell_type": "code",
   "execution_count": 39,
   "metadata": {},
   "outputs": [
    {
     "name": "stdout",
     "output_type": "stream",
     "text": [
      "[' ']\n",
      "[' ']\n",
      "[' ']\n",
      "[' ']\n"
     ]
    }
   ],
   "source": [
    "print(stop_times[\"stop_headsign\"].unique())\n",
    "print(stop_times[\"pickup_type\"].unique())\n",
    "print(stop_times[\"drop_off_type\"].unique())\n",
    "print(stop_times[\"shape_dist_traveled\"].unique())"
   ]
  },
  {
   "cell_type": "code",
   "execution_count": 64,
   "metadata": {
    "collapsed": true
   },
   "outputs": [],
   "source": [
    "stop_times[\"pickup_type\"] = 0\n",
    "stop_times[\"drop_off_type\"] = 0"
   ]
  },
  {
   "cell_type": "code",
   "execution_count": 65,
   "metadata": {},
   "outputs": [
    {
     "name": "stdout",
     "output_type": "stream",
     "text": [
      "<class 'pandas.core.frame.DataFrame'>\n",
      "RangeIndex: 1109813 entries, 0 to 1109812\n",
      "Data columns (total 9 columns):\n",
      "trip_id                1109813 non-null int64\n",
      "arrival_time           1109813 non-null object\n",
      "departure_time         1109813 non-null object\n",
      "stop_id                1109813 non-null int64\n",
      "stop_sequence          1109813 non-null int64\n",
      "stop_headsign          1109813 non-null object\n",
      "pickup_type            1109813 non-null int64\n",
      "drop_off_type          1109813 non-null int64\n",
      "shape_dist_traveled    1109813 non-null object\n",
      "dtypes: int64(5), object(4)\n",
      "memory usage: 76.2+ MB\n"
     ]
    }
   ],
   "source": [
    "stop_times.info()"
   ]
  },
  {
   "cell_type": "markdown",
   "metadata": {},
   "source": [
    "### stops [required]\n",
    "no stop_desc or stop_url was provided, filled in with null values.\n",
    "\n",
    "zone_id \"identifies the fare zone for a stop. This field is required if providing fare information using fare_rules.txt, otherwise it is optional.\" It would be a foreign key for origin_id, destination_id, or contains_id in fare_rules but fare_rules uses route_id to determine the fare. zone_id has also been filled in with null values."
   ]
  },
  {
   "cell_type": "code",
   "execution_count": 45,
   "metadata": {},
   "outputs": [
    {
     "name": "stdout",
     "output_type": "stream",
     "text": [
      "<class 'pandas.core.frame.DataFrame'>\n",
      "RangeIndex: 3491 entries, 0 to 3490\n",
      "Data columns (total 8 columns):\n",
      "stop_id      3491 non-null int64\n",
      "stop_code    3491 non-null int64\n",
      "stop_name    3491 non-null object\n",
      "stop_desc    3491 non-null object\n",
      "stop_lat     3491 non-null float64\n",
      "stop_lon     3491 non-null float64\n",
      "zone_id      3491 non-null object\n",
      "stop_url     3491 non-null object\n",
      "dtypes: float64(2), int64(2), object(4)\n",
      "memory usage: 218.3+ KB\n"
     ]
    }
   ],
   "source": [
    "stops.info()"
   ]
  },
  {
   "cell_type": "code",
   "execution_count": 46,
   "metadata": {},
   "outputs": [
    {
     "data": {
      "text/html": [
       "<div>\n",
       "<style>\n",
       "    .dataframe thead tr:only-child th {\n",
       "        text-align: right;\n",
       "    }\n",
       "\n",
       "    .dataframe thead th {\n",
       "        text-align: left;\n",
       "    }\n",
       "\n",
       "    .dataframe tbody tr th {\n",
       "        vertical-align: top;\n",
       "    }\n",
       "</style>\n",
       "<table border=\"1\" class=\"dataframe\">\n",
       "  <thead>\n",
       "    <tr style=\"text-align: right;\">\n",
       "      <th></th>\n",
       "      <th>stop_id</th>\n",
       "      <th>stop_code</th>\n",
       "      <th>stop_name</th>\n",
       "      <th>stop_desc</th>\n",
       "      <th>stop_lat</th>\n",
       "      <th>stop_lon</th>\n",
       "      <th>zone_id</th>\n",
       "      <th>stop_url</th>\n",
       "    </tr>\n",
       "  </thead>\n",
       "  <tbody>\n",
       "    <tr>\n",
       "      <th>0</th>\n",
       "      <td>390</td>\n",
       "      <td>10390</td>\n",
       "      <td>19th Avenue &amp; Holloway St</td>\n",
       "      <td></td>\n",
       "      <td>37.721190</td>\n",
       "      <td>-122.475096</td>\n",
       "      <td></td>\n",
       "      <td></td>\n",
       "    </tr>\n",
       "    <tr>\n",
       "      <th>1</th>\n",
       "      <td>913</td>\n",
       "      <td>10913</td>\n",
       "      <td>DUBLIN ST &amp; LAGRANDE AVE</td>\n",
       "      <td></td>\n",
       "      <td>37.719192</td>\n",
       "      <td>-122.425802</td>\n",
       "      <td></td>\n",
       "      <td></td>\n",
       "    </tr>\n",
       "    <tr>\n",
       "      <th>2</th>\n",
       "      <td>3003</td>\n",
       "      <td>13003</td>\n",
       "      <td>2nd St &amp; Brannan St</td>\n",
       "      <td></td>\n",
       "      <td>37.781827</td>\n",
       "      <td>-122.391945</td>\n",
       "      <td></td>\n",
       "      <td></td>\n",
       "    </tr>\n",
       "    <tr>\n",
       "      <th>3</th>\n",
       "      <td>3004</td>\n",
       "      <td>13004</td>\n",
       "      <td>2nd St &amp; Brannan St</td>\n",
       "      <td></td>\n",
       "      <td>37.781854</td>\n",
       "      <td>-122.392232</td>\n",
       "      <td></td>\n",
       "      <td></td>\n",
       "    </tr>\n",
       "    <tr>\n",
       "      <th>4</th>\n",
       "      <td>3009</td>\n",
       "      <td>13009</td>\n",
       "      <td>2nd St &amp; Harrison St</td>\n",
       "      <td></td>\n",
       "      <td>37.784532</td>\n",
       "      <td>-122.395325</td>\n",
       "      <td></td>\n",
       "      <td></td>\n",
       "    </tr>\n",
       "  </tbody>\n",
       "</table>\n",
       "</div>"
      ],
      "text/plain": [
       "   stop_id  stop_code                  stop_name stop_desc   stop_lat  \\\n",
       "0      390      10390  19th Avenue & Holloway St            37.721190   \n",
       "1      913      10913   DUBLIN ST & LAGRANDE AVE            37.719192   \n",
       "2     3003      13003     2nd St & Brannan St               37.781827   \n",
       "3     3004      13004     2nd St & Brannan St               37.781854   \n",
       "4     3009      13009    2nd St & Harrison St               37.784532   \n",
       "\n",
       "     stop_lon zone_id stop_url  \n",
       "0 -122.475096                   \n",
       "1 -122.425802                   \n",
       "2 -122.391945                   \n",
       "3 -122.392232                   \n",
       "4 -122.395325                   "
      ]
     },
     "execution_count": 46,
     "metadata": {},
     "output_type": "execute_result"
    }
   ],
   "source": [
    "stops.head()"
   ]
  },
  {
   "cell_type": "code",
   "execution_count": 67,
   "metadata": {},
   "outputs": [
    {
     "name": "stdout",
     "output_type": "stream",
     "text": [
      "[' ']\n",
      "[' ']\n",
      "[' ']\n"
     ]
    }
   ],
   "source": [
    "print(stops[\"stop_desc\"].unique())\n",
    "print(stops[\"zone_id\"].unique())\n",
    "print(stops[\"stop_url\"].unique())"
   ]
  },
  {
   "cell_type": "code",
   "execution_count": 70,
   "metadata": {
    "collapsed": true
   },
   "outputs": [],
   "source": [
    "stops[\"zone_id\"] = np.nan"
   ]
  },
  {
   "cell_type": "code",
   "execution_count": 71,
   "metadata": {},
   "outputs": [
    {
     "name": "stdout",
     "output_type": "stream",
     "text": [
      "<class 'pandas.core.frame.DataFrame'>\n",
      "RangeIndex: 3491 entries, 0 to 3490\n",
      "Data columns (total 8 columns):\n",
      "stop_id      3491 non-null int64\n",
      "stop_code    3491 non-null int64\n",
      "stop_name    3491 non-null object\n",
      "stop_desc    3491 non-null object\n",
      "stop_lat     3491 non-null float64\n",
      "stop_lon     3491 non-null float64\n",
      "zone_id      0 non-null float64\n",
      "stop_url     3491 non-null object\n",
      "dtypes: float64(3), int64(2), object(3)\n",
      "memory usage: 218.3+ KB\n"
     ]
    }
   ],
   "source": [
    "stops.info()"
   ]
  },
  {
   "cell_type": "markdown",
   "metadata": {},
   "source": [
    "### trips\n",
    "route_id is a foreign key for routes [required].\n",
    "\n",
    "service_id is a foreign key for calendar or calendar_dates.\n",
    "\n",
    "trip_id is a primary key.\n",
    "\n",
    "direction_id is binary where 0 and 1 represents one direction of travel and the other the opposite.\n",
    "\n",
    "block_id --> \"In public transport, blocking is the practice of dividing the parts of a scheduled route among vehicles and drivers. It follows the process of dividing the route into trips. In blocking, these trips are pieced together into blocks that are relatively contiguous in space and time.\""
   ]
  },
  {
   "cell_type": "code",
   "execution_count": 76,
   "metadata": {},
   "outputs": [
    {
     "data": {
      "text/html": [
       "<div>\n",
       "<style>\n",
       "    .dataframe thead tr:only-child th {\n",
       "        text-align: right;\n",
       "    }\n",
       "\n",
       "    .dataframe thead th {\n",
       "        text-align: left;\n",
       "    }\n",
       "\n",
       "    .dataframe tbody tr th {\n",
       "        vertical-align: top;\n",
       "    }\n",
       "</style>\n",
       "<table border=\"1\" class=\"dataframe\">\n",
       "  <thead>\n",
       "    <tr style=\"text-align: right;\">\n",
       "      <th></th>\n",
       "      <th>route_id</th>\n",
       "      <th>service_id</th>\n",
       "      <th>trip_id</th>\n",
       "      <th>trip_headsign</th>\n",
       "      <th>direction_id</th>\n",
       "      <th>block_id</th>\n",
       "      <th>shape_id</th>\n",
       "    </tr>\n",
       "  </thead>\n",
       "  <tbody>\n",
       "    <tr>\n",
       "      <th>0</th>\n",
       "      <td>13392</td>\n",
       "      <td>1</td>\n",
       "      <td>8318856</td>\n",
       "      <td>Geary + 33rd Avenue</td>\n",
       "      <td>0</td>\n",
       "      <td>122</td>\n",
       "      <td>159274</td>\n",
       "    </tr>\n",
       "    <tr>\n",
       "      <th>1</th>\n",
       "      <td>13392</td>\n",
       "      <td>1</td>\n",
       "      <td>8318855</td>\n",
       "      <td>Geary + 33rd Avenue</td>\n",
       "      <td>0</td>\n",
       "      <td>112</td>\n",
       "      <td>159274</td>\n",
       "    </tr>\n",
       "    <tr>\n",
       "      <th>2</th>\n",
       "      <td>13392</td>\n",
       "      <td>1</td>\n",
       "      <td>8318854</td>\n",
       "      <td>Geary + 33rd Avenue</td>\n",
       "      <td>0</td>\n",
       "      <td>121</td>\n",
       "      <td>159274</td>\n",
       "    </tr>\n",
       "    <tr>\n",
       "      <th>3</th>\n",
       "      <td>13392</td>\n",
       "      <td>1</td>\n",
       "      <td>8318853</td>\n",
       "      <td>Geary + 33rd Avenue</td>\n",
       "      <td>0</td>\n",
       "      <td>111</td>\n",
       "      <td>159274</td>\n",
       "    </tr>\n",
       "    <tr>\n",
       "      <th>4</th>\n",
       "      <td>13392</td>\n",
       "      <td>1</td>\n",
       "      <td>8318852</td>\n",
       "      <td>Geary + 33rd Avenue</td>\n",
       "      <td>0</td>\n",
       "      <td>120</td>\n",
       "      <td>159274</td>\n",
       "    </tr>\n",
       "    <tr>\n",
       "      <th>5</th>\n",
       "      <td>13392</td>\n",
       "      <td>1</td>\n",
       "      <td>8318935</td>\n",
       "      <td>Geary + 33rd Avenue</td>\n",
       "      <td>0</td>\n",
       "      <td>151</td>\n",
       "      <td>159275</td>\n",
       "    </tr>\n",
       "    <tr>\n",
       "      <th>6</th>\n",
       "      <td>13392</td>\n",
       "      <td>1</td>\n",
       "      <td>8318784</td>\n",
       "      <td>Geary + 33rd Avenue</td>\n",
       "      <td>0</td>\n",
       "      <td>115</td>\n",
       "      <td>159275</td>\n",
       "    </tr>\n",
       "    <tr>\n",
       "      <th>7</th>\n",
       "      <td>13392</td>\n",
       "      <td>1</td>\n",
       "      <td>8318783</td>\n",
       "      <td>Geary + 33rd Avenue</td>\n",
       "      <td>0</td>\n",
       "      <td>114</td>\n",
       "      <td>159275</td>\n",
       "    </tr>\n",
       "    <tr>\n",
       "      <th>8</th>\n",
       "      <td>13392</td>\n",
       "      <td>1</td>\n",
       "      <td>8318782</td>\n",
       "      <td>Geary + 33rd Avenue</td>\n",
       "      <td>0</td>\n",
       "      <td>112</td>\n",
       "      <td>159275</td>\n",
       "    </tr>\n",
       "    <tr>\n",
       "      <th>9</th>\n",
       "      <td>13392</td>\n",
       "      <td>1</td>\n",
       "      <td>8318781</td>\n",
       "      <td>Geary + 33rd Avenue</td>\n",
       "      <td>0</td>\n",
       "      <td>113</td>\n",
       "      <td>159275</td>\n",
       "    </tr>\n",
       "  </tbody>\n",
       "</table>\n",
       "</div>"
      ],
      "text/plain": [
       "   route_id  service_id  trip_id        trip_headsign  direction_id  block_id  \\\n",
       "0     13392           1  8318856  Geary + 33rd Avenue             0       122   \n",
       "1     13392           1  8318855  Geary + 33rd Avenue             0       112   \n",
       "2     13392           1  8318854  Geary + 33rd Avenue             0       121   \n",
       "3     13392           1  8318853  Geary + 33rd Avenue             0       111   \n",
       "4     13392           1  8318852  Geary + 33rd Avenue             0       120   \n",
       "5     13392           1  8318935  Geary + 33rd Avenue             0       151   \n",
       "6     13392           1  8318784  Geary + 33rd Avenue             0       115   \n",
       "7     13392           1  8318783  Geary + 33rd Avenue             0       114   \n",
       "8     13392           1  8318782  Geary + 33rd Avenue             0       112   \n",
       "9     13392           1  8318781  Geary + 33rd Avenue             0       113   \n",
       "\n",
       "   shape_id  \n",
       "0    159274  \n",
       "1    159274  \n",
       "2    159274  \n",
       "3    159274  \n",
       "4    159274  \n",
       "5    159275  \n",
       "6    159275  \n",
       "7    159275  \n",
       "8    159275  \n",
       "9    159275  "
      ]
     },
     "execution_count": 76,
     "metadata": {},
     "output_type": "execute_result"
    }
   ],
   "source": [
    "trips.head(10)"
   ]
  },
  {
   "cell_type": "code",
   "execution_count": 73,
   "metadata": {},
   "outputs": [
    {
     "name": "stdout",
     "output_type": "stream",
     "text": [
      "<class 'pandas.core.frame.DataFrame'>\n",
      "RangeIndex: 29290 entries, 0 to 29289\n",
      "Data columns (total 7 columns):\n",
      "route_id         29290 non-null int64\n",
      "service_id       29290 non-null int64\n",
      "trip_id          29290 non-null int64\n",
      "trip_headsign    29290 non-null object\n",
      "direction_id     29290 non-null int64\n",
      "block_id         29290 non-null int64\n",
      "shape_id         29290 non-null int64\n",
      "dtypes: int64(6), object(1)\n",
      "memory usage: 1.6+ MB\n"
     ]
    }
   ],
   "source": [
    "trips.info()"
   ]
  },
  {
   "cell_type": "code",
   "execution_count": 74,
   "metadata": {},
   "outputs": [
    {
     "data": {
      "text/plain": [
       "29290"
      ]
     },
     "execution_count": 74,
     "metadata": {},
     "output_type": "execute_result"
    }
   ],
   "source": [
    "len(trips[\"trip_id\"].unique())"
   ]
  }
 ],
 "metadata": {
  "kernelspec": {
   "display_name": "Python 3",
   "language": "python",
   "name": "python3"
  },
  "language_info": {
   "codemirror_mode": {
    "name": "ipython",
    "version": 3
   },
   "file_extension": ".py",
   "mimetype": "text/x-python",
   "name": "python",
   "nbconvert_exporter": "python",
   "pygments_lexer": "ipython3",
   "version": "3.6.3"
  }
 },
 "nbformat": 4,
 "nbformat_minor": 2
}
