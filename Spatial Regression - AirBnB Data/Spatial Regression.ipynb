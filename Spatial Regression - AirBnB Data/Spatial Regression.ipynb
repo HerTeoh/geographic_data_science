{
 "cells": [
  {
   "cell_type": "markdown",
   "metadata": {},
   "source": [
    "# Spatial Regression\n",
    "\n",
    "Follow along and extended from http://darribas.org/gds_scipy16/ipynb_md/08_spatial_regression.html"
   ]
  },
  {
   "cell_type": "markdown",
   "metadata": {},
   "source": [
    "Having used spatial data to map San Francisco transport lines, compare air and walking distance, and create a network graph representation of San Francisco Muni stops, I wanted to return to a more quantitative way of analysis. I began to look into [spatial statistics](https://support.esri.com/en/other-resources/gis-dictionary/term/97a2c5ae-d8cb-476f-b72c-fda1314c27f4) as a means of bringing more science than art into how I analyse spatial data.\n",
    "\n",
    "Following the notebook by Dani Arribas-Bel and Sergio Rey for the most part, I port the code to reflect the pysal 2.0.0 update, use San Francisco instead of Austin data, pick a different exogenous feature, and perform some extensions where I use multiple spatial weights and compare the spatial statistical method with a baseline regression with lat and lon features."
   ]
  },
  {
   "cell_type": "markdown",
   "metadata": {},
   "source": [
    "## Required Libraries"
   ]
  },
  {
   "cell_type": "code",
   "execution_count": 1,
   "metadata": {},
   "outputs": [
    {
     "name": "stderr",
     "output_type": "stream",
     "text": [
      "/Users/JiaHer/anaconda3/lib/python3.6/site-packages/pysal/model/spvcm/abstracts.py:10: UserWarning: The `dill` module is required to use the sqlite backend fully.\n",
      "  from .sqlite import head_to_sql, start_sql\n"
     ]
    }
   ],
   "source": [
    "import matplotlib.pyplot as plt\n",
    "import numpy as np\n",
    "import pandas as pd\n",
    "import pysal as ps\n",
    "import geopandas as gpd\n",
    "\n",
    "%matplotlib inline"
   ]
  },
  {
   "cell_type": "markdown",
   "metadata": {},
   "source": [
    "## Data\n",
    "Data source: http://insideairbnb.com/get-the-data.html"
   ]
  },
  {
   "cell_type": "code",
   "execution_count": 2,
   "metadata": {},
   "outputs": [
    {
     "data": {
      "text/html": [
       "<div>\n",
       "<style scoped>\n",
       "    .dataframe tbody tr th:only-of-type {\n",
       "        vertical-align: middle;\n",
       "    }\n",
       "\n",
       "    .dataframe tbody tr th {\n",
       "        vertical-align: top;\n",
       "    }\n",
       "\n",
       "    .dataframe thead th {\n",
       "        text-align: right;\n",
       "    }\n",
       "</style>\n",
       "<table border=\"1\" class=\"dataframe\">\n",
       "  <thead>\n",
       "    <tr style=\"text-align: right;\">\n",
       "      <th></th>\n",
       "      <th>id</th>\n",
       "      <th>listing_url</th>\n",
       "      <th>scrape_id</th>\n",
       "      <th>last_scraped</th>\n",
       "      <th>name</th>\n",
       "      <th>summary</th>\n",
       "      <th>space</th>\n",
       "      <th>description</th>\n",
       "      <th>experiences_offered</th>\n",
       "      <th>neighborhood_overview</th>\n",
       "      <th>...</th>\n",
       "      <th>instant_bookable</th>\n",
       "      <th>is_business_travel_ready</th>\n",
       "      <th>cancellation_policy</th>\n",
       "      <th>require_guest_profile_picture</th>\n",
       "      <th>require_guest_phone_verification</th>\n",
       "      <th>calculated_host_listings_count</th>\n",
       "      <th>calculated_host_listings_count_entire_homes</th>\n",
       "      <th>calculated_host_listings_count_private_rooms</th>\n",
       "      <th>calculated_host_listings_count_shared_rooms</th>\n",
       "      <th>reviews_per_month</th>\n",
       "    </tr>\n",
       "  </thead>\n",
       "  <tbody>\n",
       "    <tr>\n",
       "      <th>0</th>\n",
       "      <td>958</td>\n",
       "      <td>https://www.airbnb.com/rooms/958</td>\n",
       "      <td>20190201155620</td>\n",
       "      <td>2019-02-01</td>\n",
       "      <td>Bright, Modern Garden Unit - 1BR/1B</td>\n",
       "      <td>Our bright garden unit overlooks a grassy back...</td>\n",
       "      <td>Newly remodeled, modern, and bright garden uni...</td>\n",
       "      <td>Our bright garden unit overlooks a grassy back...</td>\n",
       "      <td>none</td>\n",
       "      <td>*Quiet cul de sac in friendly neighborhood *St...</td>\n",
       "      <td>...</td>\n",
       "      <td>t</td>\n",
       "      <td>f</td>\n",
       "      <td>moderate</td>\n",
       "      <td>f</td>\n",
       "      <td>f</td>\n",
       "      <td>1</td>\n",
       "      <td>1</td>\n",
       "      <td>0</td>\n",
       "      <td>0</td>\n",
       "      <td>1.54</td>\n",
       "    </tr>\n",
       "  </tbody>\n",
       "</table>\n",
       "<p>1 rows × 106 columns</p>\n",
       "</div>"
      ],
      "text/plain": [
       "    id                       listing_url       scrape_id last_scraped  \\\n",
       "0  958  https://www.airbnb.com/rooms/958  20190201155620   2019-02-01   \n",
       "\n",
       "                                  name  \\\n",
       "0  Bright, Modern Garden Unit - 1BR/1B   \n",
       "\n",
       "                                             summary  \\\n",
       "0  Our bright garden unit overlooks a grassy back...   \n",
       "\n",
       "                                               space  \\\n",
       "0  Newly remodeled, modern, and bright garden uni...   \n",
       "\n",
       "                                         description experiences_offered  \\\n",
       "0  Our bright garden unit overlooks a grassy back...                none   \n",
       "\n",
       "                               neighborhood_overview  ... instant_bookable  \\\n",
       "0  *Quiet cul de sac in friendly neighborhood *St...  ...                t   \n",
       "\n",
       "  is_business_travel_ready cancellation_policy require_guest_profile_picture  \\\n",
       "0                        f            moderate                             f   \n",
       "\n",
       "  require_guest_phone_verification  calculated_host_listings_count  \\\n",
       "0                                f                               1   \n",
       "\n",
       "   calculated_host_listings_count_entire_homes  \\\n",
       "0                                            1   \n",
       "\n",
       "  calculated_host_listings_count_private_rooms  \\\n",
       "0                                            0   \n",
       "\n",
       "   calculated_host_listings_count_shared_rooms  reviews_per_month  \n",
       "0                                            0               1.54  \n",
       "\n",
       "[1 rows x 106 columns]"
      ]
     },
     "execution_count": 2,
     "metadata": {},
     "output_type": "execute_result"
    }
   ],
   "source": [
    "data_path = 'sf_listings.csv.gz'\n",
    "sf_listings = pd.read_csv(data_path)\n",
    "sf_listings.head(1)"
   ]
  },
  {
   "cell_type": "code",
   "execution_count": 3,
   "metadata": {},
   "outputs": [
    {
     "name": "stdout",
     "output_type": "stream",
     "text": [
      "['id', 'listing_url', 'scrape_id', 'last_scraped', 'name', 'summary', 'space', 'description', 'experiences_offered', 'neighborhood_overview', 'notes', 'transit', 'access', 'interaction', 'house_rules', 'thumbnail_url', 'medium_url', 'picture_url', 'xl_picture_url', 'host_id', 'host_url', 'host_name', 'host_since', 'host_location', 'host_about', 'host_response_time', 'host_response_rate', 'host_acceptance_rate', 'host_is_superhost', 'host_thumbnail_url', 'host_picture_url', 'host_neighbourhood', 'host_listings_count', 'host_total_listings_count', 'host_verifications', 'host_has_profile_pic', 'host_identity_verified', 'street', 'neighbourhood', 'neighbourhood_cleansed', 'neighbourhood_group_cleansed', 'city', 'state', 'zipcode', 'market', 'smart_location', 'country_code', 'country', 'latitude', 'longitude', 'is_location_exact', 'property_type', 'room_type', 'accommodates', 'bathrooms', 'bedrooms', 'beds', 'bed_type', 'amenities', 'square_feet', 'price', 'weekly_price', 'monthly_price', 'security_deposit', 'cleaning_fee', 'guests_included', 'extra_people', 'minimum_nights', 'maximum_nights', 'minimum_minimum_nights', 'maximum_minimum_nights', 'minimum_maximum_nights', 'maximum_maximum_nights', 'minimum_nights_avg_ntm', 'maximum_nights_avg_ntm', 'calendar_updated', 'has_availability', 'availability_30', 'availability_60', 'availability_90', 'availability_365', 'calendar_last_scraped', 'number_of_reviews', 'number_of_reviews_ltm', 'first_review', 'last_review', 'review_scores_rating', 'review_scores_accuracy', 'review_scores_cleanliness', 'review_scores_checkin', 'review_scores_communication', 'review_scores_location', 'review_scores_value', 'requires_license', 'license', 'jurisdiction_names', 'instant_bookable', 'is_business_travel_ready', 'cancellation_policy', 'require_guest_profile_picture', 'require_guest_phone_verification', 'calculated_host_listings_count', 'calculated_host_listings_count_entire_homes', 'calculated_host_listings_count_private_rooms', 'calculated_host_listings_count_shared_rooms', 'reviews_per_month']\n"
     ]
    }
   ],
   "source": [
    "print(sf_listings.columns.values.tolist())"
   ]
  },
  {
   "cell_type": "markdown",
   "metadata": {},
   "source": [
    "## Data Preprocessing\n",
    "There are a few things being done here:\n",
    "1. Identify the data features we would like to run a regression on.\n",
    "2. Identify an exogenous feature and encode it as a binary integer value.\n",
    "3. Slice the dataset we want - with the data features from step 1 - from the original data file.\n",
    "4. Change the dependent variable from a string to a non-null float.\n",
    "5. Create a spatial weight matrix based on coordinate values."
   ]
  },
  {
   "cell_type": "code",
   "execution_count": 4,
   "metadata": {
    "collapsed": true
   },
   "outputs": [],
   "source": [
    "# Here is a list of features I would like to retain\n",
    "retain = ['bathrooms', 'bedrooms', 'beds', 'guests_included']"
   ]
  },
  {
   "cell_type": "code",
   "execution_count": 5,
   "metadata": {
    "collapsed": true
   },
   "outputs": [],
   "source": [
    "# used to identify whether the listing has a patio or balcony\n",
    "# by checking for the phrase Patio or balcony in the amenities column\n",
    "def has_patio(a):\n",
    "    if 'Patio or balcony' in a:\n",
    "        return 1\n",
    "    else:\n",
    "        return 0\n",
    "    \n",
    "sf_listings['patio_balcony'] = sf_listings['amenities'].apply(has_patio)"
   ]
  },
  {
   "cell_type": "code",
   "execution_count": 6,
   "metadata": {},
   "outputs": [
    {
     "data": {
      "text/html": [
       "<div>\n",
       "<style scoped>\n",
       "    .dataframe tbody tr th:only-of-type {\n",
       "        vertical-align: middle;\n",
       "    }\n",
       "\n",
       "    .dataframe tbody tr th {\n",
       "        vertical-align: top;\n",
       "    }\n",
       "\n",
       "    .dataframe thead th {\n",
       "        text-align: right;\n",
       "    }\n",
       "</style>\n",
       "<table border=\"1\" class=\"dataframe\">\n",
       "  <thead>\n",
       "    <tr style=\"text-align: right;\">\n",
       "      <th></th>\n",
       "      <th>bathrooms</th>\n",
       "      <th>bedrooms</th>\n",
       "      <th>beds</th>\n",
       "      <th>guests_included</th>\n",
       "      <th>patio_balcony</th>\n",
       "      <th>price</th>\n",
       "    </tr>\n",
       "  </thead>\n",
       "  <tbody>\n",
       "    <tr>\n",
       "      <th>0</th>\n",
       "      <td>1.0</td>\n",
       "      <td>1.0</td>\n",
       "      <td>2.0</td>\n",
       "      <td>2</td>\n",
       "      <td>0</td>\n",
       "      <td>$170.00</td>\n",
       "    </tr>\n",
       "    <tr>\n",
       "      <th>1</th>\n",
       "      <td>1.0</td>\n",
       "      <td>2.0</td>\n",
       "      <td>3.0</td>\n",
       "      <td>2</td>\n",
       "      <td>0</td>\n",
       "      <td>$235.00</td>\n",
       "    </tr>\n",
       "    <tr>\n",
       "      <th>2</th>\n",
       "      <td>4.0</td>\n",
       "      <td>1.0</td>\n",
       "      <td>1.0</td>\n",
       "      <td>1</td>\n",
       "      <td>0</td>\n",
       "      <td>$65.00</td>\n",
       "    </tr>\n",
       "    <tr>\n",
       "      <th>3</th>\n",
       "      <td>4.0</td>\n",
       "      <td>1.0</td>\n",
       "      <td>1.0</td>\n",
       "      <td>1</td>\n",
       "      <td>0</td>\n",
       "      <td>$65.00</td>\n",
       "    </tr>\n",
       "    <tr>\n",
       "      <th>4</th>\n",
       "      <td>1.5</td>\n",
       "      <td>2.0</td>\n",
       "      <td>2.0</td>\n",
       "      <td>2</td>\n",
       "      <td>0</td>\n",
       "      <td>$785.00</td>\n",
       "    </tr>\n",
       "  </tbody>\n",
       "</table>\n",
       "</div>"
      ],
      "text/plain": [
       "   bathrooms  bedrooms  beds  guests_included  patio_balcony    price\n",
       "0        1.0       1.0   2.0                2              0  $170.00\n",
       "1        1.0       2.0   3.0                2              0  $235.00\n",
       "2        4.0       1.0   1.0                1              0   $65.00\n",
       "3        4.0       1.0   1.0                1              0   $65.00\n",
       "4        1.5       2.0   2.0                2              0  $785.00"
      ]
     },
     "execution_count": 6,
     "metadata": {},
     "output_type": "execute_result"
    }
   ],
   "source": [
    "# take a slice of the dataframe (of features we want to retain) and drop any empty values\n",
    "dataset = sf_listings.loc[:, retain + ['patio_balcony', 'price']].dropna()\n",
    "dataset.head()"
   ]
  },
  {
   "cell_type": "code",
   "execution_count": 7,
   "metadata": {},
   "outputs": [
    {
     "data": {
      "text/plain": [
       "0    5.135798\n",
       "1    5.459586\n",
       "2    4.174387\n",
       "3    4.174387\n",
       "4    6.665684\n",
       "Name: price, dtype: float64"
      ]
     },
     "execution_count": 7,
     "metadata": {},
     "output_type": "execute_result"
    }
   ],
   "source": [
    "# make the price a float and push it onto a log scale\n",
    "price = np.log(dataset['price'].apply(lambda x: float(x.strip('$').replace(',', '')))+ 0.000001)\n",
    "price.head()"
   ]
  },
  {
   "cell_type": "code",
   "execution_count": 8,
   "metadata": {},
   "outputs": [
    {
     "name": "stderr",
     "output_type": "stream",
     "text": [
      "/Users/JiaHer/anaconda3/lib/python3.6/site-packages/pysal/lib/weights/weights.py:170: UserWarning: The weights matrix is not fully connected. There are 2 components\n",
      "  warnings.warn(\"The weights matrix is not fully connected. There are %d components\" % self.n_components)\n"
     ]
    },
    {
     "data": {
      "text/plain": [
       "<pysal.lib.weights.distance.KNN at 0x1156cd048>"
      ]
     },
     "execution_count": 8,
     "metadata": {},
     "output_type": "execute_result"
    }
   ],
   "source": [
    "# spatial weights matrix that connects every observation to its 8 nearest neighbors.\n",
    "# This will allow us to get extra diagnostics from the baseline model.\n",
    "w = ps.lib.weights.KNN(sf_listings.loc[dataset.index, ['longitude', 'latitude']].values, k=8)\n",
    "\n",
    "# row standerdised = A weights matrix is row-standardized when the values of each of its rows sum to one.\n",
    "w.transform = 'R'\n",
    "w"
   ]
  },
  {
   "cell_type": "markdown",
   "metadata": {},
   "source": [
    "## Baseline Regression\n",
    "This is a basic Ordinary Least Squares Regression. The weight matrix is included here to include spatial dependency tests in the output."
   ]
  },
  {
   "cell_type": "code",
   "execution_count": 9,
   "metadata": {},
   "outputs": [],
   "source": [
    "# https://pysal.readthedocs.io/en/v1.12.0/library/spreg/ols.html\n",
    "baseline_regression = ps.model.spreg.OLS(y = price.values[:, None],\n",
    "                                         x = dataset.drop('price', axis=1).values,\n",
    "                                         w = w,\n",
    "                                         spat_diag = True,\n",
    "                                         name_x = dataset.drop('price', axis=1).columns.tolist(),\n",
    "                                         name_y = 'ln(price)') "
   ]
  },
  {
   "cell_type": "code",
   "execution_count": 10,
   "metadata": {},
   "outputs": [
    {
     "name": "stdout",
     "output_type": "stream",
     "text": [
      "REGRESSION\n",
      "----------\n",
      "SUMMARY OF OUTPUT: ORDINARY LEAST SQUARES\n",
      "-----------------------------------------\n",
      "Data set            :     unknown\n",
      "Weights matrix      :     unknown\n",
      "Dependent Variable  :   ln(price)                Number of Observations:        7173\n",
      "Mean dependent var  :      5.0780                Number of Variables   :           6\n",
      "S.D. dependent var  :      0.7106                Degrees of Freedom    :        7167\n",
      "R-squared           :      0.3093\n",
      "Adjusted R-squared  :      0.3088\n",
      "Sum squared residual:    2501.573                F-statistic           :    641.7902\n",
      "Sigma-square        :       0.349                Prob(F-statistic)     :           0\n",
      "S.E. of regression  :       0.591                Log likelihood        :   -6400.012\n",
      "Sigma-square ML     :       0.349                Akaike info criterion :   12812.024\n",
      "S.E of regression ML:      0.5905                Schwarz criterion     :   12853.292\n",
      "\n",
      "------------------------------------------------------------------------------------\n",
      "            Variable     Coefficient       Std.Error     t-Statistic     Probability\n",
      "------------------------------------------------------------------------------------\n",
      "            CONSTANT       4.4787412       0.0158396     282.7567480       0.0000000\n",
      "           bathrooms      -0.0482633       0.0098411      -4.9042506       0.0000010\n",
      "            bedrooms       0.3100582       0.0119261      25.9983630       0.0000000\n",
      "                beds       0.0838132       0.0092062       9.1040435       0.0000000\n",
      "     guests_included       0.0478875       0.0061359       7.8044422       0.0000000\n",
      "       patio_balcony       0.0725215       0.0184242       3.9362208       0.0000836\n",
      "------------------------------------------------------------------------------------\n",
      "\n",
      "REGRESSION DIAGNOSTICS\n",
      "MULTICOLLINEARITY CONDITION NUMBER            7.600\n",
      "\n",
      "TEST ON NORMALITY OF ERRORS\n",
      "TEST                             DF        VALUE           PROB\n",
      "Jarque-Bera                       2     6084492.321           0.0000\n",
      "\n",
      "DIAGNOSTICS FOR HETEROSKEDASTICITY\n",
      "RANDOM COEFFICIENTS\n",
      "TEST                             DF        VALUE           PROB\n",
      "Breusch-Pagan test                5        1287.600           0.0000\n",
      "Koenker-Bassett test              5          17.826           0.0032\n",
      "\n",
      "DIAGNOSTICS FOR SPATIAL DEPENDENCE\n",
      "TEST                           MI/DF       VALUE           PROB\n",
      "Lagrange Multiplier (lag)         1        1081.543           0.0000\n",
      "Robust LM (lag)                   1          17.229           0.0000\n",
      "Lagrange Multiplier (error)       1        1726.481           0.0000\n",
      "Robust LM (error)                 1         662.167           0.0000\n",
      "Lagrange Multiplier (SARMA)       2        1743.710           0.0000\n",
      "\n",
      "================================ END OF REPORT =====================================\n"
     ]
    }
   ],
   "source": [
    "print(baseline_regression.summary)"
   ]
  },
  {
   "cell_type": "markdown",
   "metadata": {},
   "source": [
    "## Spatially lagged exogenous regressors\n",
    "The exogenous feature here is the presence of patios and balconies. The number of patios or balconies in the vicinity can be calculated using a non row standardised weight matrix."
   ]
  },
  {
   "cell_type": "code",
   "execution_count": 11,
   "metadata": {},
   "outputs": [
    {
     "name": "stderr",
     "output_type": "stream",
     "text": [
      "/Users/JiaHer/anaconda3/lib/python3.6/site-packages/pysal/lib/weights/weights.py:170: UserWarning: The weights matrix is not fully connected. There are 2 components\n",
      "  warnings.warn(\"The weights matrix is not fully connected. There are %d components\" % self.n_components)\n"
     ]
    }
   ],
   "source": [
    "w_patio = ps.lib.weights.KNN(sf_listings.loc[dataset.index,['longitude', 'latitude']].values, k=8)\n",
    "dataset_w = dataset.assign(w_patio=ps.lib.weights.lag_spatial(w_patio, dataset['patio_balcony'].values))"
   ]
  },
  {
   "cell_type": "code",
   "execution_count": 12,
   "metadata": {},
   "outputs": [],
   "source": [
    "exogenous_regressors = ps.model.spreg.OLS(y = price.values[:, None],\n",
    "                                          x = dataset_w.drop('price', axis=1).values,\n",
    "                                          w=w,\n",
    "                                          spat_diag=True,\n",
    "                                          name_x=dataset_w.drop('price', axis=1).columns.tolist(),\n",
    "                                          name_y='ln(price)')"
   ]
  },
  {
   "cell_type": "code",
   "execution_count": 13,
   "metadata": {},
   "outputs": [
    {
     "name": "stdout",
     "output_type": "stream",
     "text": [
      "REGRESSION\n",
      "----------\n",
      "SUMMARY OF OUTPUT: ORDINARY LEAST SQUARES\n",
      "-----------------------------------------\n",
      "Data set            :     unknown\n",
      "Weights matrix      :     unknown\n",
      "Dependent Variable  :   ln(price)                Number of Observations:        7173\n",
      "Mean dependent var  :      5.0780                Number of Variables   :           7\n",
      "S.D. dependent var  :      0.7106                Degrees of Freedom    :        7166\n",
      "R-squared           :      0.3093\n",
      "Adjusted R-squared  :      0.3087\n",
      "Sum squared residual:    2501.548                F-statistic           :    534.7682\n",
      "Sigma-square        :       0.349                Prob(F-statistic)     :           0\n",
      "S.E. of regression  :       0.591                Log likelihood        :   -6399.975\n",
      "Sigma-square ML     :       0.349                Akaike info criterion :   12813.950\n",
      "S.E of regression ML:      0.5905                Schwarz criterion     :   12862.097\n",
      "\n",
      "------------------------------------------------------------------------------------\n",
      "            Variable     Coefficient       Std.Error     t-Statistic     Probability\n",
      "------------------------------------------------------------------------------------\n",
      "            CONSTANT       4.4770336       0.0170529     262.5379025       0.0000000\n",
      "           bathrooms      -0.0481526       0.0098503      -4.8884673       0.0000010\n",
      "            bedrooms       0.3098328       0.0119559      25.9145592       0.0000000\n",
      "                beds       0.0840057       0.0092342       9.0972095       0.0000000\n",
      "     guests_included       0.0477796       0.0061493       7.7699608       0.0000000\n",
      "       patio_balcony       0.0713367       0.0189392       3.7666184       0.0001668\n",
      "             w_patio       0.0013278       0.0049103       0.2704074       0.7868546\n",
      "------------------------------------------------------------------------------------\n",
      "\n",
      "REGRESSION DIAGNOSTICS\n",
      "MULTICOLLINEARITY CONDITION NUMBER            8.089\n",
      "\n",
      "TEST ON NORMALITY OF ERRORS\n",
      "TEST                             DF        VALUE           PROB\n",
      "Jarque-Bera                       2     6080424.785           0.0000\n",
      "\n",
      "DIAGNOSTICS FOR HETEROSKEDASTICITY\n",
      "RANDOM COEFFICIENTS\n",
      "TEST                             DF        VALUE           PROB\n",
      "Breusch-Pagan test                6        1347.409           0.0000\n",
      "Koenker-Bassett test              6          18.660           0.0048\n",
      "\n",
      "DIAGNOSTICS FOR SPATIAL DEPENDENCE\n",
      "TEST                           MI/DF       VALUE           PROB\n",
      "Lagrange Multiplier (lag)         1        1097.737           0.0000\n",
      "Robust LM (lag)                   1          18.870           0.0000\n",
      "Lagrange Multiplier (error)       1        1726.222           0.0000\n",
      "Robust LM (error)                 1         647.355           0.0000\n",
      "Lagrange Multiplier (SARMA)       2        1745.092           0.0000\n",
      "\n",
      "================================ END OF REPORT =====================================\n"
     ]
    }
   ],
   "source": [
    "print(exogenous_regressors.summary)"
   ]
  },
  {
   "cell_type": "markdown",
   "metadata": {},
   "source": [
    "## Spatially lagged endogenous regressors\n",
    "The endogenous data feature here is the price. The argument is that people tend to price their listings based in part on what the going rate is around them. Crucially however, the price is also the dependent variable. Running OLS on it would violate its assumptions. GM_Lag is a method that addresses this issue."
   ]
  },
  {
   "cell_type": "code",
   "execution_count": 14,
   "metadata": {},
   "outputs": [],
   "source": [
    "endogenous_regressors = ps.model.spreg.GM_Lag(y = price.values[:, None],\n",
    "                                              x = dataset.drop('price', axis=1).values,\n",
    "                                              w = w,\n",
    "                                              spat_diag = True,\n",
    "                                              name_x = dataset.drop('price', axis=1).columns.tolist(),\n",
    "                                              name_y = 'ln(price)'\n",
    "                                             ) "
   ]
  },
  {
   "cell_type": "code",
   "execution_count": 15,
   "metadata": {},
   "outputs": [
    {
     "name": "stdout",
     "output_type": "stream",
     "text": [
      "REGRESSION\n",
      "----------\n",
      "SUMMARY OF OUTPUT: SPATIAL TWO STAGE LEAST SQUARES\n",
      "--------------------------------------------------\n",
      "Data set            :     unknown\n",
      "Weights matrix      :     unknown\n",
      "Dependent Variable  :   ln(price)                Number of Observations:        7173\n",
      "Mean dependent var  :      5.0780                Number of Variables   :           7\n",
      "S.D. dependent var  :      0.7106                Degrees of Freedom    :        7166\n",
      "Pseudo R-squared    :      0.2819\n",
      "Spatial Pseudo R-squared:  0.3104\n",
      "\n",
      "------------------------------------------------------------------------------------\n",
      "            Variable     Coefficient       Std.Error     z-Statistic     Probability\n",
      "------------------------------------------------------------------------------------\n",
      "            CONSTANT       4.9187567       0.2327048      21.1373265       0.0000000\n",
      "           bathrooms      -0.0515667       0.0101851      -5.0629730       0.0000004\n",
      "            bedrooms       0.3145885       0.0123935      25.3833611       0.0000000\n",
      "                beds       0.0837316       0.0093875       8.9194927       0.0000000\n",
      "     guests_included       0.0467486       0.0062855       7.4375229       0.0000000\n",
      "       patio_balcony       0.0762229       0.0188881       4.0355033       0.0000545\n",
      "         W_ln(price)      -0.0869256       0.0458602      -1.8954455       0.0580334\n",
      "------------------------------------------------------------------------------------\n",
      "Instrumented: W_ln(price)\n",
      "Instruments: W_bathrooms, W_bedrooms, W_beds, W_guests_included,\n",
      "             W_patio_balcony\n",
      "\n",
      "DIAGNOSTICS FOR SPATIAL DEPENDENCE\n",
      "TEST                           MI/DF       VALUE           PROB\n",
      "Anselin-Kelejian Test             1          97.993          0.0000\n",
      "================================ END OF REPORT =====================================\n"
     ]
    }
   ],
   "source": [
    "print(endogenous_regressors.summary)"
   ]
  },
  {
   "cell_type": "markdown",
   "metadata": {},
   "source": [
    "## Results"
   ]
  },
  {
   "cell_type": "code",
   "execution_count": 16,
   "metadata": {},
   "outputs": [
    {
     "data": {
      "text/plain": [
       "Price        0.348159\n",
       "OLS+Patio    0.348745\n",
       "OLS          0.348749\n",
       "dtype: float64"
      ]
     },
     "execution_count": 16,
     "metadata": {},
     "output_type": "execute_result"
    }
   ],
   "source": [
    "from sklearn.metrics import mean_squared_error as mse\n",
    "\n",
    "mses = pd.Series({'OLS': mse(price, baseline_regression.predy.flatten()),\n",
    "                  'OLS+Patio': mse(price, exogenous_regressors.predy.flatten()),\n",
    "                  'Price': mse(price, endogenous_regressors.predy_e)\n",
    "                    })\n",
    "mses.sort_values()"
   ]
  },
  {
   "cell_type": "markdown",
   "metadata": {},
   "source": [
    "# Extensions"
   ]
  },
  {
   "cell_type": "markdown",
   "metadata": {},
   "source": [
    "* What if the baseline regression was run with coordinates as a data feature?\n",
    "* How about if we did a spatial regression with both patio and price?\n",
    "* Is there a different exogenous feature that might be a larger factor than patio/balcony?"
   ]
  },
  {
   "cell_type": "markdown",
   "metadata": {},
   "source": [
    "## Lat + Lon Regression"
   ]
  },
  {
   "cell_type": "code",
   "execution_count": 17,
   "metadata": {
    "collapsed": true
   },
   "outputs": [],
   "source": [
    "lat_lon_data = dataset\n",
    "lat_lon_data['longitude'] = sf_listings['longitude']\n",
    "lat_lon_data['latitude'] = sf_listings['latitude']"
   ]
  },
  {
   "cell_type": "code",
   "execution_count": 18,
   "metadata": {},
   "outputs": [
    {
     "data": {
      "text/html": [
       "<div>\n",
       "<style scoped>\n",
       "    .dataframe tbody tr th:only-of-type {\n",
       "        vertical-align: middle;\n",
       "    }\n",
       "\n",
       "    .dataframe tbody tr th {\n",
       "        vertical-align: top;\n",
       "    }\n",
       "\n",
       "    .dataframe thead th {\n",
       "        text-align: right;\n",
       "    }\n",
       "</style>\n",
       "<table border=\"1\" class=\"dataframe\">\n",
       "  <thead>\n",
       "    <tr style=\"text-align: right;\">\n",
       "      <th></th>\n",
       "      <th>bathrooms</th>\n",
       "      <th>bedrooms</th>\n",
       "      <th>beds</th>\n",
       "      <th>guests_included</th>\n",
       "      <th>patio_balcony</th>\n",
       "      <th>price</th>\n",
       "      <th>longitude</th>\n",
       "      <th>latitude</th>\n",
       "    </tr>\n",
       "  </thead>\n",
       "  <tbody>\n",
       "    <tr>\n",
       "      <th>0</th>\n",
       "      <td>1.0</td>\n",
       "      <td>1.0</td>\n",
       "      <td>2.0</td>\n",
       "      <td>2</td>\n",
       "      <td>0</td>\n",
       "      <td>$170.00</td>\n",
       "      <td>-122.433856</td>\n",
       "      <td>37.769310</td>\n",
       "    </tr>\n",
       "    <tr>\n",
       "      <th>1</th>\n",
       "      <td>1.0</td>\n",
       "      <td>2.0</td>\n",
       "      <td>3.0</td>\n",
       "      <td>2</td>\n",
       "      <td>0</td>\n",
       "      <td>$235.00</td>\n",
       "      <td>-122.421018</td>\n",
       "      <td>37.745112</td>\n",
       "    </tr>\n",
       "    <tr>\n",
       "      <th>2</th>\n",
       "      <td>4.0</td>\n",
       "      <td>1.0</td>\n",
       "      <td>1.0</td>\n",
       "      <td>1</td>\n",
       "      <td>0</td>\n",
       "      <td>$65.00</td>\n",
       "      <td>-122.452505</td>\n",
       "      <td>37.766690</td>\n",
       "    </tr>\n",
       "    <tr>\n",
       "      <th>3</th>\n",
       "      <td>4.0</td>\n",
       "      <td>1.0</td>\n",
       "      <td>1.0</td>\n",
       "      <td>1</td>\n",
       "      <td>0</td>\n",
       "      <td>$65.00</td>\n",
       "      <td>-122.451828</td>\n",
       "      <td>37.764872</td>\n",
       "    </tr>\n",
       "    <tr>\n",
       "      <th>4</th>\n",
       "      <td>1.5</td>\n",
       "      <td>2.0</td>\n",
       "      <td>2.0</td>\n",
       "      <td>2</td>\n",
       "      <td>0</td>\n",
       "      <td>$785.00</td>\n",
       "      <td>-122.436374</td>\n",
       "      <td>37.775249</td>\n",
       "    </tr>\n",
       "  </tbody>\n",
       "</table>\n",
       "</div>"
      ],
      "text/plain": [
       "   bathrooms  bedrooms  beds  guests_included  patio_balcony    price  \\\n",
       "0        1.0       1.0   2.0                2              0  $170.00   \n",
       "1        1.0       2.0   3.0                2              0  $235.00   \n",
       "2        4.0       1.0   1.0                1              0   $65.00   \n",
       "3        4.0       1.0   1.0                1              0   $65.00   \n",
       "4        1.5       2.0   2.0                2              0  $785.00   \n",
       "\n",
       "    longitude   latitude  \n",
       "0 -122.433856  37.769310  \n",
       "1 -122.421018  37.745112  \n",
       "2 -122.452505  37.766690  \n",
       "3 -122.451828  37.764872  \n",
       "4 -122.436374  37.775249  "
      ]
     },
     "execution_count": 18,
     "metadata": {},
     "output_type": "execute_result"
    }
   ],
   "source": [
    "lat_lon_data.head()"
   ]
  },
  {
   "cell_type": "code",
   "execution_count": 19,
   "metadata": {},
   "outputs": [],
   "source": [
    "lat_lon_regression = ps.model.spreg.OLS(y = price.values[:, None],\n",
    "                                   x = lat_lon_data.drop('price', axis=1).values,\n",
    "                                   w = w,\n",
    "                                   spat_diag = True,\n",
    "                                   name_x = lat_lon_data.drop('price', axis=1).columns.tolist(),\n",
    "                                   name_y = 'ln(price)'\n",
    "                                  ) "
   ]
  },
  {
   "cell_type": "code",
   "execution_count": 20,
   "metadata": {},
   "outputs": [
    {
     "name": "stdout",
     "output_type": "stream",
     "text": [
      "REGRESSION\n",
      "----------\n",
      "SUMMARY OF OUTPUT: ORDINARY LEAST SQUARES\n",
      "-----------------------------------------\n",
      "Data set            :     unknown\n",
      "Weights matrix      :     unknown\n",
      "Dependent Variable  :   ln(price)                Number of Observations:        7173\n",
      "Mean dependent var  :      5.0780                Number of Variables   :           8\n",
      "S.D. dependent var  :      0.7106                Degrees of Freedom    :        7165\n",
      "R-squared           :      0.3771\n",
      "Adjusted R-squared  :      0.3765\n",
      "Sum squared residual:    2255.745                F-statistic           :    619.7853\n",
      "Sigma-square        :       0.315                Prob(F-statistic)     :           0\n",
      "S.E. of regression  :       0.561                Log likelihood        :   -6029.026\n",
      "Sigma-square ML     :       0.314                Akaike info criterion :   12074.052\n",
      "S.E of regression ML:      0.5608                Schwarz criterion     :   12129.077\n",
      "\n",
      "------------------------------------------------------------------------------------\n",
      "            Variable     Coefficient       Std.Error     t-Statistic     Probability\n",
      "------------------------------------------------------------------------------------\n",
      "            CONSTANT     -19.1316132      34.8654173      -0.5487275       0.5832096\n",
      "           bathrooms      -0.0723026       0.0093864      -7.7028864       0.0000000\n",
      "            bedrooms       0.3408643       0.0113803      29.9521565       0.0000000\n",
      "                beds       0.0784007       0.0087484       8.9617643       0.0000000\n",
      "     guests_included       0.0570634       0.0058391       9.7726609       0.0000000\n",
      "       patio_balcony       0.0886801       0.0175329       5.0579126       0.0000004\n",
      "           longitude       2.1235173       0.2532880       8.3838045       0.0000000\n",
      "            latitude       7.5087660       0.3028398      24.7945166       0.0000000\n",
      "------------------------------------------------------------------------------------\n",
      "\n",
      "REGRESSION DIAGNOSTICS\n",
      "MULTICOLLINEARITY CONDITION NUMBER        17556.992\n",
      "\n",
      "TEST ON NORMALITY OF ERRORS\n",
      "TEST                             DF        VALUE           PROB\n",
      "Jarque-Bera                       2     8675235.564           0.0000\n",
      "\n",
      "DIAGNOSTICS FOR HETEROSKEDASTICITY\n",
      "RANDOM COEFFICIENTS\n",
      "TEST                             DF        VALUE           PROB\n",
      "Breusch-Pagan test                7        1852.031           0.0000\n",
      "Koenker-Bassett test              7          21.521           0.0031\n",
      "\n",
      "DIAGNOSTICS FOR SPATIAL DEPENDENCE\n",
      "TEST                           MI/DF       VALUE           PROB\n",
      "Lagrange Multiplier (lag)         1         573.643           0.0000\n",
      "Robust LM (lag)                   1          12.577           0.0004\n",
      "Lagrange Multiplier (error)       1         706.132           0.0000\n",
      "Robust LM (error)                 1         145.066           0.0000\n",
      "Lagrange Multiplier (SARMA)       2         718.709           0.0000\n",
      "\n",
      "================================ END OF REPORT =====================================\n"
     ]
    }
   ],
   "source": [
    "print(lat_lon_regression.summary)"
   ]
  },
  {
   "cell_type": "markdown",
   "metadata": {},
   "source": [
    "## Price + Patio"
   ]
  },
  {
   "cell_type": "code",
   "execution_count": 21,
   "metadata": {},
   "outputs": [
    {
     "name": "stderr",
     "output_type": "stream",
     "text": [
      "/Users/JiaHer/anaconda3/lib/python3.6/site-packages/pysal/lib/weights/weights.py:170: UserWarning: The weights matrix is not fully connected. There are 2 components\n",
      "  warnings.warn(\"The weights matrix is not fully connected. There are %d components\" % self.n_components)\n"
     ]
    },
    {
     "data": {
      "text/plain": [
       "<pysal.lib.weights.distance.KNN at 0x1a28f6ba90>"
      ]
     },
     "execution_count": 21,
     "metadata": {},
     "output_type": "execute_result"
    }
   ],
   "source": [
    "w = ps.lib.weights.KNN(sf_listings.loc[dataset.index, ['longitude', 'latitude']].values, k=8)\n",
    "w"
   ]
  },
  {
   "cell_type": "code",
   "execution_count": 22,
   "metadata": {},
   "outputs": [],
   "source": [
    "price_patio_regressor = ps.model.spreg.GM_Lag(y = price.values[:, None],\n",
    "                                              x = dataset_w.drop('price', axis=1).values,\n",
    "                                              w = w,\n",
    "                                              spat_diag = True,\n",
    "                                              name_x = dataset_w.drop('price', axis=1).columns.tolist(),\n",
    "                                              name_y = 'ln(price)'\n",
    "                                             ) "
   ]
  },
  {
   "cell_type": "code",
   "execution_count": 23,
   "metadata": {},
   "outputs": [
    {
     "name": "stdout",
     "output_type": "stream",
     "text": [
      "REGRESSION\n",
      "----------\n",
      "SUMMARY OF OUTPUT: SPATIAL TWO STAGE LEAST SQUARES\n",
      "--------------------------------------------------\n",
      "Data set            :     unknown\n",
      "Weights matrix      :     unknown\n",
      "Dependent Variable  :   ln(price)                Number of Observations:        7173\n",
      "Mean dependent var  :      5.0780                Number of Variables   :           8\n",
      "S.D. dependent var  :      0.7106                Degrees of Freedom    :        7165\n",
      "Pseudo R-squared    :      0.2790\n",
      "Spatial Pseudo R-squared:  0.3106\n",
      "\n",
      "------------------------------------------------------------------------------------\n",
      "            Variable     Coefficient       Std.Error     z-Statistic     Probability\n",
      "------------------------------------------------------------------------------------\n",
      "            CONSTANT       4.9590909       0.2412081      20.5593835       0.0000000\n",
      "           bathrooms      -0.0515494       0.0102068      -5.0505130       0.0000004\n",
      "            bedrooms       0.3143237       0.0124205      25.3068655       0.0000000\n",
      "                beds       0.0843530       0.0094371       8.9383935       0.0000000\n",
      "     guests_included       0.0462768       0.0063279       7.3130844       0.0000000\n",
      "       patio_balcony       0.0727324       0.0193646       3.7559373       0.0001727\n",
      "             w_patio       0.0043445       0.0067452       0.6440841       0.5195209\n",
      "         W_ln(price)      -0.0119997       0.0059886      -2.0037467       0.0450972\n",
      "------------------------------------------------------------------------------------\n",
      "Instrumented: W_ln(price)\n",
      "Instruments: W_bathrooms, W_bedrooms, W_beds, W_guests_included,\n",
      "             W_patio_balcony, W_w_patio\n",
      "\n",
      "DIAGNOSTICS FOR SPATIAL DEPENDENCE\n",
      "TEST                           MI/DF       VALUE           PROB\n",
      "Anselin-Kelejian Test             1          92.765          0.0000\n",
      "================================ END OF REPORT =====================================\n"
     ]
    }
   ],
   "source": [
    "print(price_patio_regressor.summary)"
   ]
  },
  {
   "cell_type": "markdown",
   "metadata": {
    "collapsed": true
   },
   "source": [
    "## Transit"
   ]
  },
  {
   "cell_type": "code",
   "execution_count": 24,
   "metadata": {},
   "outputs": [],
   "source": [
    "# Pulls out a number of phrases that would indicate the presence of a nearby transit stop\n",
    "# Assigns it as a binary value for regression analysis\n",
    "\n",
    "transit_types = ['Bus', 'bus', 'muni', 'Muni', 'BART', 'Bart', 'bart']\n",
    "\n",
    "sf_listings['transit'] = sf_listings['transit'].fillna('N/A')\n",
    "\n",
    "def has_transit(a):\n",
    "    if any(transit_type in a for transit_type in transit_types):\n",
    "        return 1\n",
    "    else:\n",
    "        return 0\n",
    "\n",
    "sf_listings['transit'] = sf_listings['transit'].apply(has_transit)"
   ]
  },
  {
   "cell_type": "code",
   "execution_count": 25,
   "metadata": {},
   "outputs": [
    {
     "data": {
      "text/html": [
       "<div>\n",
       "<style scoped>\n",
       "    .dataframe tbody tr th:only-of-type {\n",
       "        vertical-align: middle;\n",
       "    }\n",
       "\n",
       "    .dataframe tbody tr th {\n",
       "        vertical-align: top;\n",
       "    }\n",
       "\n",
       "    .dataframe thead th {\n",
       "        text-align: right;\n",
       "    }\n",
       "</style>\n",
       "<table border=\"1\" class=\"dataframe\">\n",
       "  <thead>\n",
       "    <tr style=\"text-align: right;\">\n",
       "      <th></th>\n",
       "      <th>bathrooms</th>\n",
       "      <th>bedrooms</th>\n",
       "      <th>beds</th>\n",
       "      <th>guests_included</th>\n",
       "      <th>transit</th>\n",
       "      <th>price</th>\n",
       "    </tr>\n",
       "  </thead>\n",
       "  <tbody>\n",
       "    <tr>\n",
       "      <th>0</th>\n",
       "      <td>1.0</td>\n",
       "      <td>1.0</td>\n",
       "      <td>2.0</td>\n",
       "      <td>2</td>\n",
       "      <td>1</td>\n",
       "      <td>$170.00</td>\n",
       "    </tr>\n",
       "    <tr>\n",
       "      <th>1</th>\n",
       "      <td>1.0</td>\n",
       "      <td>2.0</td>\n",
       "      <td>3.0</td>\n",
       "      <td>2</td>\n",
       "      <td>0</td>\n",
       "      <td>$235.00</td>\n",
       "    </tr>\n",
       "    <tr>\n",
       "      <th>2</th>\n",
       "      <td>4.0</td>\n",
       "      <td>1.0</td>\n",
       "      <td>1.0</td>\n",
       "      <td>1</td>\n",
       "      <td>1</td>\n",
       "      <td>$65.00</td>\n",
       "    </tr>\n",
       "    <tr>\n",
       "      <th>3</th>\n",
       "      <td>4.0</td>\n",
       "      <td>1.0</td>\n",
       "      <td>1.0</td>\n",
       "      <td>1</td>\n",
       "      <td>1</td>\n",
       "      <td>$65.00</td>\n",
       "    </tr>\n",
       "    <tr>\n",
       "      <th>4</th>\n",
       "      <td>1.5</td>\n",
       "      <td>2.0</td>\n",
       "      <td>2.0</td>\n",
       "      <td>2</td>\n",
       "      <td>0</td>\n",
       "      <td>$785.00</td>\n",
       "    </tr>\n",
       "  </tbody>\n",
       "</table>\n",
       "</div>"
      ],
      "text/plain": [
       "   bathrooms  bedrooms  beds  guests_included  transit    price\n",
       "0        1.0       1.0   2.0                2        1  $170.00\n",
       "1        1.0       2.0   3.0                2        0  $235.00\n",
       "2        4.0       1.0   1.0                1        1   $65.00\n",
       "3        4.0       1.0   1.0                1        1   $65.00\n",
       "4        1.5       2.0   2.0                2        0  $785.00"
      ]
     },
     "execution_count": 25,
     "metadata": {},
     "output_type": "execute_result"
    }
   ],
   "source": [
    "dataset_w_transit = sf_listings.loc[:, retain + ['transit', 'price']].dropna()\n",
    "dataset_w_transit.head()"
   ]
  },
  {
   "cell_type": "code",
   "execution_count": 26,
   "metadata": {},
   "outputs": [
    {
     "name": "stderr",
     "output_type": "stream",
     "text": [
      "/Users/JiaHer/anaconda3/lib/python3.6/site-packages/pysal/lib/weights/weights.py:170: UserWarning: The weights matrix is not fully connected. There are 2 components\n",
      "  warnings.warn(\"The weights matrix is not fully connected. There are %d components\" % self.n_components)\n"
     ]
    }
   ],
   "source": [
    "w_transit = ps.lib.weights.KNN(sf_listings.loc[dataset.index,['longitude', 'latitude']].values, k=8)\n",
    "dataset_w_transit = dataset.assign(w_transit=ps.lib.weights.lag_spatial(w_transit, dataset_w_transit['transit'].values))"
   ]
  },
  {
   "cell_type": "code",
   "execution_count": 27,
   "metadata": {},
   "outputs": [],
   "source": [
    "transit_regressor = ps.model.spreg.OLS(y = price.values[:, None],\n",
    "                               x = dataset_w_transit.drop('price', axis=1).values,\n",
    "                               w=w,\n",
    "                               spat_diag=True,\n",
    "                               name_x=dataset_w_transit.drop('price', axis=1).columns.tolist(),\n",
    "                               name_y='ln(price)'\n",
    "                              )"
   ]
  },
  {
   "cell_type": "code",
   "execution_count": 28,
   "metadata": {},
   "outputs": [
    {
     "name": "stdout",
     "output_type": "stream",
     "text": [
      "REGRESSION\n",
      "----------\n",
      "SUMMARY OF OUTPUT: ORDINARY LEAST SQUARES\n",
      "-----------------------------------------\n",
      "Data set            :     unknown\n",
      "Weights matrix      :     unknown\n",
      "Dependent Variable  :   ln(price)                Number of Observations:        7173\n",
      "Mean dependent var  :      5.0780                Number of Variables   :           9\n",
      "S.D. dependent var  :      0.7106                Degrees of Freedom    :        7164\n",
      "R-squared           :      0.3780\n",
      "Adjusted R-squared  :      0.3773\n",
      "Sum squared residual:    2252.649                F-statistic           :    544.2122\n",
      "Sigma-square        :       0.314                Prob(F-statistic)     :           0\n",
      "S.E. of regression  :       0.561                Log likelihood        :   -6024.101\n",
      "Sigma-square ML     :       0.314                Akaike info criterion :   12066.202\n",
      "S.E of regression ML:      0.5604                Schwarz criterion     :   12128.105\n",
      "\n",
      "------------------------------------------------------------------------------------\n",
      "            Variable     Coefficient       Std.Error     t-Statistic     Probability\n",
      "------------------------------------------------------------------------------------\n",
      "            CONSTANT     -27.4621128      34.9449257      -0.7858684       0.4319706\n",
      "           bathrooms      -0.0734988       0.0093884      -7.8286971       0.0000000\n",
      "            bedrooms       0.3392558       0.0113848      29.7989576       0.0000000\n",
      "                beds       0.0778102       0.0087450       8.8976913       0.0000000\n",
      "     guests_included       0.0575837       0.0058378       9.8638659       0.0000000\n",
      "       patio_balcony       0.0891989       0.0175229       5.0904132       0.0000004\n",
      "           longitude       2.1998332       0.2542977       8.6506210       0.0000000\n",
      "            latitude       7.9754898       0.3372324      23.6498335       0.0000000\n",
      "           w_transit       0.0114318       0.0036435       3.1376203       0.0017102\n",
      "------------------------------------------------------------------------------------\n",
      "\n",
      "REGRESSION DIAGNOSTICS\n",
      "MULTICOLLINEARITY CONDITION NUMBER        18653.133\n",
      "\n",
      "TEST ON NORMALITY OF ERRORS\n",
      "TEST                             DF        VALUE           PROB\n",
      "Jarque-Bera                       2     8754276.689           0.0000\n",
      "\n",
      "DIAGNOSTICS FOR HETEROSKEDASTICITY\n",
      "RANDOM COEFFICIENTS\n",
      "TEST                             DF        VALUE           PROB\n",
      "Breusch-Pagan test                8        1813.654           0.0000\n",
      "Koenker-Bassett test              8          20.980           0.0072\n",
      "\n",
      "DIAGNOSTICS FOR SPATIAL DEPENDENCE\n",
      "TEST                           MI/DF       VALUE           PROB\n",
      "Lagrange Multiplier (lag)         1         556.648           0.0000\n",
      "Robust LM (lag)                   1           9.247           0.0024\n",
      "Lagrange Multiplier (error)       1         695.975           0.0000\n",
      "Robust LM (error)                 1         148.574           0.0000\n",
      "Lagrange Multiplier (SARMA)       2         705.222           0.0000\n",
      "\n",
      "================================ END OF REPORT =====================================\n"
     ]
    }
   ],
   "source": [
    "print(transit_regressor.summary)"
   ]
  },
  {
   "cell_type": "markdown",
   "metadata": {},
   "source": [
    "## Final Results"
   ]
  },
  {
   "cell_type": "code",
   "execution_count": 29,
   "metadata": {},
   "outputs": [
    {
     "data": {
      "text/plain": [
       "Transit        0.314046\n",
       "Lat+Lon        0.314477\n",
       "Price+Patio    0.348096\n",
       "Price          0.348159\n",
       "OLS+Patio      0.348745\n",
       "OLS            0.348749\n",
       "dtype: float64"
      ]
     },
     "execution_count": 29,
     "metadata": {},
     "output_type": "execute_result"
    }
   ],
   "source": [
    "from sklearn.metrics import mean_squared_error as mse\n",
    "\n",
    "mses = pd.Series({'OLS': mse(price, baseline_regression.predy.flatten()),\n",
    "                  'OLS+Patio': mse(price, exogenous_regressors.predy.flatten()),\n",
    "                  'Price': mse(price, endogenous_regressors.predy_e),\n",
    "                  'Lat+Lon': mse(price, lat_lon_regression.predy.flatten()),\n",
    "                  'Price+Patio': mse(price, price_patio_regressor.predy_e),\n",
    "                  'Transit': mse(price, transit_regressor.predy.flatten())\n",
    "                    })\n",
    "mses.sort_values()"
   ]
  }
 ],
 "metadata": {
  "kernelspec": {
   "display_name": "Python 3",
   "language": "python",
   "name": "python3"
  },
  "language_info": {
   "codemirror_mode": {
    "name": "ipython",
    "version": 3
   },
   "file_extension": ".py",
   "mimetype": "text/x-python",
   "name": "python",
   "nbconvert_exporter": "python",
   "pygments_lexer": "ipython3",
   "version": "3.6.3"
  }
 },
 "nbformat": 4,
 "nbformat_minor": 2
}
